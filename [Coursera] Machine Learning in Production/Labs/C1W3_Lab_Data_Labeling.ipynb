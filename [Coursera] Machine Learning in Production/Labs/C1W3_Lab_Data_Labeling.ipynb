{
  "cells": [
    {
      "cell_type": "markdown",
      "metadata": {
        "id": "myWkks-LE5Md"
      },
      "source": [
        "# Week 3 - Ungraded Lab: Data Labeling\n",
        "\n",
        "\n",
        "Welcome to the ungraded lab for week 3 of Machine Learning Engineering for Production. In this lab, you will see how the data labeling process affects the performance of a classification model. Labeling data is usually a very labor intensive and costly task but it is of great importance.\n",
        "\n",
        "As you saw in the lectures there are many ways to label data, this is dependant on the strategy used. Recall the example with the iguanas, all of the following are valid labeling alternatives but they clearly follow different criteria.\n",
        "\n",
        "![](https://miro.medium.com/v2/resize:fit:1400/1*Q5B0ky6PsuDgBtjgU2N43g.png)\n",
        "\n",
        "**You can think of every labeling strategy as a result of different labelers following different labeling rules**. If your data is labeled by people using different criteria this will have a negative impact on your learning algorithm. It is desired to have consistent labeling across your dataset.\n",
        "\n",
        "This lab will touch on the effect of labeling strategies from a slighlty different angle. You will explore how different strategies affect the performance of a machine learning model by simulating the process of having different labelers label the data. This, by defining a set of rules and performing automatic labeling based on those rules.\n",
        "\n",
        "**The main objective of this ungraded lab is to compare performance across labeling options to understand the role that good labeling plays on the performance of Machine Learning models**, these options are:\n",
        "1. Randomly generated labels (performance lower bound)\n",
        "2. Automatic generated labels based on three different label strategies\n",
        "3. True labels (performance upper bound)\n",
        "\n",
        "Although the example with the iguanas is a computer vision task, the same concepts regarding labeling can be applied to other types of data. In this lab you will be working with text data, concretely you will be using a dataset containing comments from the 2015 top 5 most popular Youtube videos. Each comment has been labeled as `spam` or `not_spam` depending on its contents."
      ]
    },
    {
      "cell_type": "code",
      "execution_count": null,
      "metadata": {
        "id": "_esnX_koE5Mi"
      },
      "outputs": [],
      "source": [
        "import os\n",
        "import numpy as np\n",
        "import pandas as pd\n",
        "import matplotlib.pyplot as plt"
      ]
    },
    {
      "cell_type": "markdown",
      "metadata": {
        "id": "NUCXyifUE5Mj"
      },
      "source": [
        "## Loading the dataset\n",
        "\n",
        "The dataset consists of 5 CSV files, one for each video. Pandas `DataFrame` are very powerful to handle data in CSV format. The following helper function will load the data using pandas:"
      ]
    },
    {
      "cell_type": "code",
      "execution_count": null,
      "metadata": {
        "id": "1TbBpEWKE5Ml"
      },
      "outputs": [],
      "source": [
        "def load_labeled_spam_dataset():\n",
        "    \"\"\"Load labeled spam dataset.\"\"\"\n",
        "\n",
        "    # Path where csv files are located\n",
        "    base_path = \"./data/\"\n",
        "\n",
        "    # List of csv files with full path\n",
        "    csv_files = [os.path.join(base_path, csv) for csv in os.listdir(base_path)]\n",
        "\n",
        "    # List of dataframes for each file\n",
        "    dfs = [pd.read_csv(filename) for filename in csv_files]\n",
        "\n",
        "    # Concatenate dataframes into a single one\n",
        "    df = pd.concat(dfs)\n",
        "\n",
        "    # Rename columns\n",
        "    df = df.rename(columns={\"CONTENT\": \"text\", \"CLASS\": \"label\"})\n",
        "\n",
        "    # Set a seed for the order of rows\n",
        "    df = df.sample(frac=1, random_state=824)\n",
        "\n",
        "    return df.reset_index()\n",
        "\n",
        "\n",
        "# Save the dataframe into the df_labeled variable\n",
        "df_labeled = load_labeled_spam_dataset()"
      ]
    },
    {
      "cell_type": "markdown",
      "metadata": {
        "id": "Hz1ObfhgE5Ml"
      },
      "source": [
        "To have a feeling of how the data is organized, let's inspect the top 5 rows of the data:"
      ]
    },
    {
      "cell_type": "code",
      "execution_count": null,
      "metadata": {
        "id": "nOKiDhUEE5Mm",
        "outputId": "f8c25b13-59d5-4bf9-86de-608544f3b7f8"
      },
      "outputs": [
        {
          "data": {
            "text/html": [
              "<div>\n",
              "<style scoped>\n",
              "    .dataframe tbody tr th:only-of-type {\n",
              "        vertical-align: middle;\n",
              "    }\n",
              "\n",
              "    .dataframe tbody tr th {\n",
              "        vertical-align: top;\n",
              "    }\n",
              "\n",
              "    .dataframe thead th {\n",
              "        text-align: right;\n",
              "    }\n",
              "</style>\n",
              "<table border=\"1\" class=\"dataframe\">\n",
              "  <thead>\n",
              "    <tr style=\"text-align: right;\">\n",
              "      <th></th>\n",
              "      <th>index</th>\n",
              "      <th>COMMENT_ID</th>\n",
              "      <th>AUTHOR</th>\n",
              "      <th>DATE</th>\n",
              "      <th>text</th>\n",
              "      <th>label</th>\n",
              "    </tr>\n",
              "  </thead>\n",
              "  <tbody>\n",
              "    <tr>\n",
              "      <th>0</th>\n",
              "      <td>86</td>\n",
              "      <td>z12uzb3oxy23cbikz23qsjczaxz5wh1t5</td>\n",
              "      <td>luisel Tutoriales Gameplays (luisel Tutoriales)</td>\n",
              "      <td>2015-05-23T18:56:07.484000</td>\n",
              "      <td>music yeah﻿</td>\n",
              "      <td>0</td>\n",
              "    </tr>\n",
              "    <tr>\n",
              "      <th>1</th>\n",
              "      <td>291</td>\n",
              "      <td>z122z5pa2wyofbjj304cgfwrrmvjgn0pohc</td>\n",
              "      <td>Mia Aspinall</td>\n",
              "      <td>2014-11-08T10:30:35</td>\n",
              "      <td>2 billion views, only 2 million shares﻿</td>\n",
              "      <td>0</td>\n",
              "    </tr>\n",
              "    <tr>\n",
              "      <th>2</th>\n",
              "      <td>142</td>\n",
              "      <td>z13bttm5gxecfvrqq04cevkpuxj5s1u5ys40k</td>\n",
              "      <td>Vane Cavazos</td>\n",
              "      <td>2014-09-20T15:39:44</td>\n",
              "      <td>Katycat! https://m.facebook.com/profile.php?id...</td>\n",
              "      <td>1</td>\n",
              "    </tr>\n",
              "    <tr>\n",
              "      <th>3</th>\n",
              "      <td>147</td>\n",
              "      <td>z132zl1rupqcylbep23jgfig3um3ct5vv</td>\n",
              "      <td>KatyPerry TheQueenOfPop</td>\n",
              "      <td>2014-09-22T06:50:24</td>\n",
              "      <td>--&amp;gt;ATTENTION KATYCATS! Katy leads with 7 no...</td>\n",
              "      <td>1</td>\n",
              "    </tr>\n",
              "    <tr>\n",
              "      <th>4</th>\n",
              "      <td>326</td>\n",
              "      <td>z12usr54ppaxxf1dl23nhbybruapdnixw04</td>\n",
              "      <td>Arthur Teixeira</td>\n",
              "      <td>2014-11-12T20:12:47</td>\n",
              "      <td>I wanted to know the name of the guy that danc...</td>\n",
              "      <td>0</td>\n",
              "    </tr>\n",
              "  </tbody>\n",
              "</table>\n",
              "</div>"
            ],
            "text/plain": [
              "   index                             COMMENT_ID  \\\n",
              "0     86      z12uzb3oxy23cbikz23qsjczaxz5wh1t5   \n",
              "1    291    z122z5pa2wyofbjj304cgfwrrmvjgn0pohc   \n",
              "2    142  z13bttm5gxecfvrqq04cevkpuxj5s1u5ys40k   \n",
              "3    147      z132zl1rupqcylbep23jgfig3um3ct5vv   \n",
              "4    326    z12usr54ppaxxf1dl23nhbybruapdnixw04   \n",
              "\n",
              "                                            AUTHOR  \\\n",
              "0  luisel Tutoriales Gameplays (luisel Tutoriales)   \n",
              "1                                     Mia Aspinall   \n",
              "2                                     Vane Cavazos   \n",
              "3                          KatyPerry TheQueenOfPop   \n",
              "4                                  Arthur Teixeira   \n",
              "\n",
              "                         DATE  \\\n",
              "0  2015-05-23T18:56:07.484000   \n",
              "1         2014-11-08T10:30:35   \n",
              "2         2014-09-20T15:39:44   \n",
              "3         2014-09-22T06:50:24   \n",
              "4         2014-11-12T20:12:47   \n",
              "\n",
              "                                                text  label  \n",
              "0                                        music yeah﻿      0  \n",
              "1            2 billion views, only 2 million shares﻿      0  \n",
              "2  Katycat! https://m.facebook.com/profile.php?id...      1  \n",
              "3  --&gt;ATTENTION KATYCATS! Katy leads with 7 no...      1  \n",
              "4  I wanted to know the name of the guy that danc...      0  "
            ]
          },
          "execution_count": 3,
          "metadata": {},
          "output_type": "execute_result"
        }
      ],
      "source": [
        "# Take a look at the first 5 rows\n",
        "df_labeled.head()"
      ]
    },
    {
      "cell_type": "markdown",
      "metadata": {
        "id": "jBbGg-hSE5Mo"
      },
      "source": [
        "## Further inspection and preprocessing\n",
        "\n",
        "\n",
        "### Checking for data imbalance\n",
        "\n",
        "It is fairly common to assume that the data you are working on is balanced. This means that the dataset contains a similar proportion of examples for all classes. Before moving forward let's actually test this assumption:"
      ]
    },
    {
      "cell_type": "code",
      "execution_count": null,
      "metadata": {
        "id": "kL81oox0E5Mo",
        "outputId": "fd0691a8-9366-49cd-d335-0f4881ec8a0b"
      },
      "outputs": [
        {
          "name": "stdout",
          "output_type": "stream",
          "text": [
            "Value counts for each class:\n",
            "\n",
            "1    1005\n",
            "0     951\n",
            "Name: label, dtype: int64\n",
            "\n"
          ]
        },
        {
          "data": {
            "image/png": "[encoded data removed]",
            "text/plain": [
              "<Figure size 432x288 with 1 Axes>"
            ]
          },
          "metadata": {},
          "output_type": "display_data"
        }
      ],
      "source": [
        "# Print actual value count\n",
        "print(f\"Value counts for each class:\\n\\n{df_labeled.label.value_counts()}\\n\")\n",
        "\n",
        "# Display pie chart to visually check the proportion\n",
        "df_labeled.label.value_counts().plot.pie(y='label', title='Proportion of each class')\n",
        "plt.show()"
      ]
    },
    {
      "cell_type": "markdown",
      "metadata": {
        "id": "4iYslo3WE5Mp"
      },
      "source": [
        "There is roughly the same number of data points for each class so class imbalance is not an issue for this particular dataset.\n",
        "\n",
        "\n",
        "### Cleaning the dataset\n",
        "\n",
        "If you scroll back to the cell where  you inspected the data, you will realize that the dataframe includes information that is not relevant for the task at hand. At the moment, you are only interested in the comments and the corresponding labels (the video that each comment belongs to will be used later). Let's drop the remaining columns."
      ]
    },
    {
      "cell_type": "code",
      "execution_count": null,
      "metadata": {
        "id": "7ALPuynwE5Mp",
        "outputId": "7b87d44d-8e62-4b60-d371-6c82bded82da"
      },
      "outputs": [
        {
          "data": {
            "text/html": [
              "<div>\n",
              "<style scoped>\n",
              "    .dataframe tbody tr th:only-of-type {\n",
              "        vertical-align: middle;\n",
              "    }\n",
              "\n",
              "    .dataframe tbody tr th {\n",
              "        vertical-align: top;\n",
              "    }\n",
              "\n",
              "    .dataframe thead th {\n",
              "        text-align: right;\n",
              "    }\n",
              "</style>\n",
              "<table border=\"1\" class=\"dataframe\">\n",
              "  <thead>\n",
              "    <tr style=\"text-align: right;\">\n",
              "      <th></th>\n",
              "      <th>text</th>\n",
              "      <th>label</th>\n",
              "    </tr>\n",
              "  </thead>\n",
              "  <tbody>\n",
              "    <tr>\n",
              "      <th>0</th>\n",
              "      <td>music yeah﻿</td>\n",
              "      <td>0</td>\n",
              "    </tr>\n",
              "    <tr>\n",
              "      <th>1</th>\n",
              "      <td>2 billion views, only 2 million shares﻿</td>\n",
              "      <td>0</td>\n",
              "    </tr>\n",
              "    <tr>\n",
              "      <th>2</th>\n",
              "      <td>Katycat! https://m.facebook.com/profile.php?id...</td>\n",
              "      <td>1</td>\n",
              "    </tr>\n",
              "    <tr>\n",
              "      <th>3</th>\n",
              "      <td>--&amp;gt;ATTENTION KATYCATS! Katy leads with 7 no...</td>\n",
              "      <td>1</td>\n",
              "    </tr>\n",
              "    <tr>\n",
              "      <th>4</th>\n",
              "      <td>I wanted to know the name of the guy that danc...</td>\n",
              "      <td>0</td>\n",
              "    </tr>\n",
              "  </tbody>\n",
              "</table>\n",
              "</div>"
            ],
            "text/plain": [
              "                                                text  label\n",
              "0                                        music yeah﻿      0\n",
              "1            2 billion views, only 2 million shares﻿      0\n",
              "2  Katycat! https://m.facebook.com/profile.php?id...      1\n",
              "3  --&gt;ATTENTION KATYCATS! Katy leads with 7 no...      1\n",
              "4  I wanted to know the name of the guy that danc...      0"
            ]
          },
          "execution_count": 5,
          "metadata": {},
          "output_type": "execute_result"
        }
      ],
      "source": [
        "# Drop unused columns\n",
        "df_labeled = df_labeled.drop(['index', 'COMMENT_ID', 'AUTHOR', 'DATE'], axis=1)\n",
        "\n",
        "# Look at the cleaned dataset\n",
        "df_labeled.head()"
      ]
    },
    {
      "cell_type": "markdown",
      "metadata": {
        "id": "Y9GOpRCNE5Mq"
      },
      "source": [
        "Now the dataset only includes the information you are going to use moving forward.\n",
        "\n",
        "### Splitting the dataset\n",
        "\n",
        "Before jumping to the data labeling section let's split the data into training and test sets so you can use the latter to measure the performance of models that were trained using data labeled through different methods. As a safety measure when doing this split, remember to use stratification so the proportion of classes is maintained within each split."
      ]
    },
    {
      "cell_type": "code",
      "execution_count": null,
      "metadata": {
        "id": "v56YmCpBE5Mq",
        "outputId": "530c9435-6705-4ece-f55b-fdd09eddb3ad"
      },
      "outputs": [
        {
          "name": "stdout",
          "output_type": "stream",
          "text": [
            "There are 1564 comments for training.\n",
            "There are 392 comments for testing\n"
          ]
        }
      ],
      "source": [
        "from sklearn.model_selection import train_test_split\n",
        "\n",
        "# Save the text into the X variable\n",
        "X = df_labeled.drop(\"label\", axis=1)\n",
        "\n",
        "# Save the true labels into the y variable\n",
        "y = df_labeled[\"label\"]\n",
        "\n",
        "# Use 1/5 of the data for testing later\n",
        "X_train, X_test, y_train, y_test = train_test_split(X, y, test_size=0.2, random_state=42, stratify=y)\n",
        "\n",
        "# Print number of comments for each set\n",
        "print(f\"There are {X_train.shape[0]} comments for training.\")\n",
        "print(f\"There are {X_test.shape[0]} comments for testing\")"
      ]
    },
    {
      "cell_type": "markdown",
      "metadata": {
        "id": "B5piM0hFE5Ms"
      },
      "source": [
        "Let's do a visual to check that the stratification actually worked:"
      ]
    },
    {
      "cell_type": "code",
      "execution_count": null,
      "metadata": {
        "id": "gzybsMx6E5Ms",
        "outputId": "8e51bf76-93c1-412e-bbda-d26f36e528dc"
      },
      "outputs": [
        {
          "data": {
            "image/png": "[encoded data removed]",
            "text/plain": [
              "<Figure size 720x432 with 2 Axes>"
            ]
          },
          "metadata": {},
          "output_type": "display_data"
        }
      ],
      "source": [
        "plt.subplot(1, 3, 1)\n",
        "y_train.value_counts().plot.pie(y='label', title='Proportion of each class for train set', figsize=(10, 6))\n",
        "\n",
        "plt.subplot(1, 3, 3)\n",
        "y_test.value_counts().plot.pie(y='label', title='Proportion of each class for test set', figsize=(10, 6))\n",
        "\n",
        "plt.tight_layout()\n",
        "plt.show()"
      ]
    },
    {
      "cell_type": "markdown",
      "metadata": {
        "id": "vHLnaPL6E5Mt"
      },
      "source": [
        "Both, the training and test sets a balanced proportion of examples per class. So, the code successfully implemented stratification.  \n",
        "\n",
        "Let's get going!"
      ]
    },
    {
      "cell_type": "markdown",
      "metadata": {
        "id": "YB2nmYitE5Mu"
      },
      "source": [
        "## Data Labeling\n",
        "\n",
        "### Establishing performance lower and upper bounds for reference\n",
        "\n",
        "To properly compare different labeling strategies you need to establish a baseline for model accuracy, in this case you will establish both a lower and an upper bound to compare against.\n",
        "\n"
      ]
    },
    {
      "cell_type": "markdown",
      "metadata": {
        "id": "Ynik0gVXE5Mu"
      },
      "source": [
        "### Calculate accuracy of a labeling strategy\n",
        "\n",
        "[CountVectorizer](https://scikit-learn.org/stable/modules/generated/sklearn.feature_extraction.text.CountVectorizer.html#sklearn.feature_extraction.text.CountVectorizer) is a handy tool included in the sklearn ecosystem to encode text based data.\n",
        "\n",
        "For more information on how to work with text data using sklearn check out this [resource](https://scikit-learn.org/stable/tutorial/text_analytics/working_with_text_data.html)."
      ]
    },
    {
      "cell_type": "code",
      "execution_count": null,
      "metadata": {
        "id": "5_TmHRHvE5Mu"
      },
      "outputs": [],
      "source": [
        "from sklearn.feature_extraction.text import CountVectorizer\n",
        "\n",
        "# Allow unigrams and bigrams\n",
        "vectorizer = CountVectorizer(ngram_range=(1, 5))"
      ]
    },
    {
      "cell_type": "markdown",
      "metadata": {
        "id": "ZhNXTKHaE5Mv"
      },
      "source": [
        "Now that the text encoding is defined, you need to select a model to make predictions. For simplicity you will use a [Multinomial Naive Bayes](https://scikit-learn.org/stable/modules/generated/sklearn.naive_bayes.MultinomialNB.html) classifier. This model is well suited for text classification and is fairly quick to train.\n",
        "\n",
        "Let's define a function which will handle the model fitting and print out the accuracy on the test data:"
      ]
    },
    {
      "cell_type": "code",
      "execution_count": null,
      "metadata": {
        "id": "raBkXB2mE5Mv"
      },
      "outputs": [],
      "source": [
        "from sklearn.metrics import accuracy_score\n",
        "from sklearn.naive_bayes import MultinomialNB\n",
        "\n",
        "\n",
        "def calculate_accuracy(X_tr, y_tr, X_te=X_test, y_te=y_test,\n",
        "                       clf=MultinomialNB(), vectorizer=vectorizer):\n",
        "\n",
        "    # Encode train text\n",
        "    X_train_vect = vectorizer.fit_transform(X_tr.text.tolist())\n",
        "\n",
        "    # Fit model\n",
        "    clf.fit(X=X_train_vect, y=y_tr)\n",
        "\n",
        "    # Vectorize test text\n",
        "    X_test_vect = vectorizer.transform(X_te.text.tolist())\n",
        "\n",
        "    # Make predictions for the test set\n",
        "    preds = clf.predict(X_test_vect)\n",
        "\n",
        "    # Return accuracy score\n",
        "    return accuracy_score(preds, y_te)\n"
      ]
    },
    {
      "cell_type": "markdown",
      "metadata": {
        "id": "wu_YVRKKE5Mw"
      },
      "source": [
        "Now let's create a dictionary  to store the accuracy of each labeling method:"
      ]
    },
    {
      "cell_type": "code",
      "execution_count": null,
      "metadata": {
        "id": "4fFx4pVxE5Mw"
      },
      "outputs": [],
      "source": [
        "# Empty dictionary\n",
        "accs = dict()"
      ]
    },
    {
      "cell_type": "markdown",
      "metadata": {
        "id": "EFfOs8a5E5Mx"
      },
      "source": [
        "### Random Labeling\n",
        "\n",
        "Generating random labels is a natural way to establish a lower bound. You will expect that any successful alternative labeling model to outperform randomly generated labels.\n",
        "\n",
        "Now let's calculate the accuracy for the random labeling method"
      ]
    },
    {
      "cell_type": "code",
      "execution_count": null,
      "metadata": {
        "id": "f1U5xG-pE5Mx",
        "outputId": "f441a606-d48b-407e-a73e-b5aff563e878"
      },
      "outputs": [
        {
          "data": {
            "text/plain": [
              "0.5612244897959183"
            ]
          },
          "execution_count": 11,
          "metadata": {},
          "output_type": "execute_result"
        }
      ],
      "source": [
        "# Calculate random labels\n",
        "rnd_labels = np.random.randint(0, 2, X_train.shape[0])\n",
        "\n",
        "# Feed them alongside X_train to calculate_accuracy function\n",
        "rnd_acc = calculate_accuracy(X_train, rnd_labels)\n",
        "\n",
        "rnd_acc"
      ]
    },
    {
      "cell_type": "markdown",
      "metadata": {
        "id": "GBUi8tHbE5Mx"
      },
      "source": [
        "You will see a different accuracy everytime you run the previous cell. This is due to the fact that the labeling is done randomly. Remember, this is a binary classification problem and both classes are balanced, so you can expect to see accuracies that revolve around 50%.\n",
        "\n",
        "To further gain intuition let's look at the average accuracy over 10 runs:"
      ]
    },
    {
      "cell_type": "code",
      "execution_count": null,
      "metadata": {
        "id": "eV0W0RSaE5My",
        "outputId": "c161023b-9686-4990-919b-b7b3699f6942"
      },
      "outputs": [
        {
          "name": "stdout",
          "output_type": "stream",
          "text": [
            "The random labelling method achieved and accuracy of 48.62%\n"
          ]
        }
      ],
      "source": [
        "# Empty list to save accuracies\n",
        "rnd_accs = []\n",
        "\n",
        "for _ in range(10):\n",
        "    # Add every accuracy to the list\n",
        "    rnd_accs.append(calculate_accuracy(X_train, np.random.randint(0, 2, X_train.shape[0])))\n",
        "\n",
        "# Save result in accs dictionary\n",
        "accs['random-labels'] = sum(rnd_accs)/len(rnd_accs)\n",
        "\n",
        "# Print result\n",
        "print(f\"The random labelling method achieved and accuracy of {accs['random-labels']*100:.2f}%\")"
      ]
    },
    {
      "cell_type": "markdown",
      "metadata": {
        "id": "GOjmMpr1E5My"
      },
      "source": [
        "Random labelling is completely disregarding the information from the solution space you are working on, and is just guessing the correct label. You can't probably do worse than this (or maybe you can). For this reason, this method serves as reference for comparing other labeling methods\n",
        "\n",
        "\n",
        "### Labeling with true values\n",
        "\n",
        "Now let's look at the other end of the spectrum, this is using the correct labels for your data points. Let's retrain the Multinomial Naive Bayes classifier with the actual labels"
      ]
    },
    {
      "cell_type": "code",
      "execution_count": null,
      "metadata": {
        "id": "EGeioHwQE5Mz",
        "outputId": "91bf94be-6280-4ac2-806c-d5ed0082bcaf"
      },
      "outputs": [
        {
          "name": "stdout",
          "output_type": "stream",
          "text": [
            "The true labelling method achieved and accuracy of 91.58%\n"
          ]
        }
      ],
      "source": [
        "# Calculate accuracy when using the true labels\n",
        "true_acc = calculate_accuracy(X_train, y_train)\n",
        "\n",
        "# Save the result\n",
        "accs['true-labels'] = true_acc\n",
        "\n",
        "print(f\"The true labelling method achieved and accuracy of {accs['true-labels']*100:.2f}%\")"
      ]
    },
    {
      "cell_type": "markdown",
      "metadata": {
        "id": "zP2rwtupE5M0"
      },
      "source": [
        "Training with the true labels produced a noticeable boost in accuracy. This is expected as the classifier is now able to properly identify patterns in the training data which were lacking with randomly generated labels.\n",
        "\n",
        "Achieving higher accuracy is possible by either fine-tunning the model or even selecting a different one. For the time being you will keep the model as it is and use this accuracy as what we should strive for with the automatic labeling algorithms you will see next."
      ]
    },
    {
      "cell_type": "markdown",
      "metadata": {
        "id": "7x3wSnWgE5M0"
      },
      "source": [
        "## Automatic labeling - Trying out different labeling strategies"
      ]
    },
    {
      "cell_type": "markdown",
      "metadata": {
        "id": "K_1GgdaRE5M1"
      },
      "source": [
        "Let's suppose that for some reason you don't have access to the true labels associated with each data point in this dataset. It is a natural idea to think that there are patterns in the data that will provide clues of which are the correct labels. This is of course very dependant on the kind of data you are working with and to even hypothesize which patterns exist requires great domain knowledge.\n",
        "\n",
        "The dataset used in this lab was used for this reason. It is reasonable for many people to come up with rules that might help identify a spam comment from a non-spam one for a Youtube video. In the following section you will be performing automatic labeling using such rules. **You can think of each iteration of this process as a labeler with different criteria for labeling** and your job is to hire the most promising one.\n",
        "\n",
        "Notice the word **rules**. In order to perform automatic labeling you will define some rules such as \"if the comment contains the word 'free' classify it as spam\".\n",
        "\n",
        "First things first. Let's define how we are going to encode the labeling:\n",
        "- `SPAM` is represented by 1\n",
        "\n",
        "\n",
        "- `NOT_SPAM` by 0\n",
        "\n",
        "\n",
        "- `NO_LABEL` as -1\n",
        "\n",
        "\n",
        "You might be wondering about the `NO_LABEL` keyword. Depending on the rules you come up with, these might not be applicable to some data points. For such cases it is better to refuse from giving a label rather than guessing, which you already saw yields poor results."
      ]
    },
    {
      "cell_type": "markdown",
      "metadata": {
        "id": "ax7kq7JaE5M1"
      },
      "source": [
        "### First iteration - Define some rules\n",
        "\n",
        "For this first iteration you will create three  rules based on the intuition of common patterns that appear on spam comments. The rules are simple, classify as SPAM if any of the following patterns is present within the comment or NO_LABEL otherwise:\n",
        "- `free` - spam comments usually lure users by promoting free stuff\n",
        "- `subs` - spam comments tend to ask users to subscribe to some website or channel\n",
        "- `http` - spam comments include links very frequently"
      ]
    },
    {
      "cell_type": "code",
      "execution_count": null,
      "metadata": {
        "id": "TiMerBWqE5M2"
      },
      "outputs": [],
      "source": [
        "def labeling_rules_1(x):\n",
        "\n",
        "    # Convert text to lowercase\n",
        "    x = x.lower()\n",
        "\n",
        "    # Define list of rules\n",
        "    rules = [\n",
        "        \"free\" in x,\n",
        "        \"subs\" in x,\n",
        "        \"http\" in x\n",
        "    ]\n",
        "\n",
        "    # If the comment falls under any of the rules classify as SPAM\n",
        "    if any(rules):\n",
        "        return 1\n",
        "\n",
        "    # Otherwise, NO_LABEL\n",
        "    return -1"
      ]
    },
    {
      "cell_type": "code",
      "execution_count": null,
      "metadata": {
        "id": "0-fvq2ATE5M2",
        "outputId": "1d8c1271-1355-4cba-c85e-753dc27a63f0"
      },
      "outputs": [
        {
          "data": {
            "text/plain": [
              "array([-1, -1, -1, ..., -1, -1,  1])"
            ]
          },
          "execution_count": 15,
          "metadata": {},
          "output_type": "execute_result"
        }
      ],
      "source": [
        "# Apply the rules the comments in the train set\n",
        "labels = [labeling_rules_1(label) for label in X_train.text]\n",
        "\n",
        "# Convert to a numpy array\n",
        "labels = np.asarray(labels)\n",
        "\n",
        "# Take a look at the automatic labels\n",
        "labels"
      ]
    },
    {
      "cell_type": "markdown",
      "metadata": {
        "id": "DsP44BFRE5M3"
      },
      "source": [
        "For lots of points the automatic labeling algorithm decided to not settle for a label, this is expected given the nature of the rules that were defined. These points should be deleted since they don't provide information about the classification process and tend to hurt performance."
      ]
    },
    {
      "cell_type": "code",
      "execution_count": null,
      "metadata": {
        "id": "dSYgnoTrE5M4",
        "outputId": "97d367ed-6437-46a8-fc96-55a8ffdb4663"
      },
      "outputs": [
        {
          "name": "stdout",
          "output_type": "stream",
          "text": [
            "Predictions with concrete label have shape: (379,)\n",
            "Proportion of data points kept: 24.23%\n"
          ]
        }
      ],
      "source": [
        "# Create the automatic labeled version of X_train by removing points with NO_LABEL label\n",
        "X_train_al = X_train[labels != -1]\n",
        "\n",
        "# Remove predictions with NO_LABEL label\n",
        "labels_al = labels[labels != -1]\n",
        "\n",
        "print(f\"Predictions with concrete label have shape: {labels_al.shape}\")\n",
        "\n",
        "print(f\"Proportion of data points kept: {labels_al.shape[0]/labels.shape[0]*100:.2f}%\")"
      ]
    },
    {
      "cell_type": "markdown",
      "metadata": {
        "id": "WjAJQMEVE5M4"
      },
      "source": [
        "Notice that only 379 data points remained out of the original 1564. The rules defined didn't provide enough context for the labeling algorithm to settle on a label, so around 75% of the data has been trimmed.\n",
        "\n",
        "Let's test the accuracy of the model when using these automatic generated labels:"
      ]
    },
    {
      "cell_type": "code",
      "execution_count": null,
      "metadata": {
        "id": "9hkVmEmlE5M5",
        "outputId": "94baf02e-f899-4d9b-fb3c-85dace8f040b"
      },
      "outputs": [
        {
          "name": "stdout",
          "output_type": "stream",
          "text": [
            "First iteration of automatic labeling has an accuracy of 51.28%\n"
          ]
        }
      ],
      "source": [
        "# Compute accuracy when using these labels\n",
        "iter_1_acc = calculate_accuracy(X_train_al, labels_al)\n",
        "\n",
        "# Display accuracy\n",
        "print(f\"First iteration of automatic labeling has an accuracy of {iter_1_acc*100:.2f}%\")\n",
        "\n",
        "# Save the result\n",
        "accs['first-iteration'] = iter_1_acc"
      ]
    },
    {
      "cell_type": "markdown",
      "metadata": {
        "id": "X7Qwj47NE5M6"
      },
      "source": [
        "Let's compare this accuracy to the baselines by plotting:"
      ]
    },
    {
      "cell_type": "code",
      "execution_count": null,
      "metadata": {
        "id": "xKjjTpNKE5NE",
        "outputId": "8b44705d-6ab4-4367-d55b-4f2ec6283208"
      },
      "outputs": [
        {
          "data": {
            "image/png": "[encoded data removed]",
            "text/plain": [
              "<Figure size 432x288 with 1 Axes>"
            ]
          },
          "metadata": {
            "needs_background": "light"
          },
          "output_type": "display_data"
        }
      ],
      "source": [
        "def plot_accuracies(accs=accs):\n",
        "    colors = list(\"rgbcmy\")\n",
        "    items_num = len(accs)\n",
        "    cont = 1\n",
        "\n",
        "    for x, y in accs.items():\n",
        "        if x in ['true-labels', 'random-labels', 'true-labels-best-clf']:\n",
        "            plt.hlines(y, 0, (items_num-2)*2, colors=colors.pop())\n",
        "        else:\n",
        "            plt.scatter(cont, y, s=100)\n",
        "            cont+=2\n",
        "    plt.legend(accs.keys(), loc=\"center left\",bbox_to_anchor=(1, 0.5))\n",
        "    plt.show()\n",
        "\n",
        "plot_accuracies()"
      ]
    },
    {
      "cell_type": "markdown",
      "metadata": {
        "id": "66A85J3sE5NE"
      },
      "source": [
        "This first iteration had an accuracy very close to the random labeling, we should strive to do better than this."
      ]
    },
    {
      "cell_type": "markdown",
      "metadata": {
        "id": "HKU7IT3tE5NE"
      },
      "source": [
        "Before moving forward let's define the `label_given_rules` function that performs all of the steps you just saw, these are:\n",
        "- Apply the rules to a dataframe of comments\n",
        "- Cast the resulting labels to a numpy array\n",
        "- Delete all data points with NO_LABEL as label\n",
        "- Calculate the accuracy of the model using the automatic labels\n",
        "- Save the accuracy for plotting\n",
        "- Print some useful metrics of the process"
      ]
    },
    {
      "cell_type": "code",
      "execution_count": null,
      "metadata": {
        "id": "U3kBN-GeE5NF"
      },
      "outputs": [],
      "source": [
        "def label_given_rules(df, rules_function, name,\n",
        "                      accs_dict=accs, verbose=True):\n",
        "\n",
        "    # Apply labeling rules to the comments\n",
        "    labels = [rules_function(label) for label in df.text]\n",
        "\n",
        "    # Convert to a numpy array\n",
        "    labels = np.asarray(labels)\n",
        "\n",
        "    # Save initial number of data points\n",
        "    initial_size = labels.shape[0]\n",
        "\n",
        "    # Trim points with NO_LABEL label\n",
        "    X_train_al = df[labels != -1]\n",
        "    labels = labels[labels != -1]\n",
        "\n",
        "    # Save number of data points after trimming\n",
        "    final_size = labels.shape[0]\n",
        "\n",
        "    # Compute accuracy\n",
        "    acc = calculate_accuracy(X_train_al, labels)\n",
        "\n",
        "    # Print useful information\n",
        "    if verbose:\n",
        "        print(f\"Proportion of data points kept: {final_size/initial_size*100:.2f}%\\n\")\n",
        "        print(f\"{name} labeling has an accuracy of {acc*100:.2f}%\\n\")\n",
        "\n",
        "    # Save accuracy to accuracies dictionary\n",
        "    accs_dict[name] = acc\n",
        "\n",
        "    return X_train_al, labels, acc"
      ]
    },
    {
      "cell_type": "markdown",
      "metadata": {
        "id": "cSIBnPjKE5NJ"
      },
      "source": [
        "Going forward we should come up with rules that have a better coverage of the training data, thus making pattern discovery an easier task. Also notice how the rules were only able to label as either SPAM or NO_LABEL, we should also create some rules that help the identification of NOT_SPAM comments."
      ]
    },
    {
      "cell_type": "markdown",
      "metadata": {
        "id": "txCn8oBKE5NK"
      },
      "source": [
        "### Second iteration - Coming up with better rules\n",
        "\n",
        "If you inspect the comments in the dataset you might be able to distinguish certain patterns at a glimpse. For example, not spam comments often make references to either the number of views since these were the most watched videos of 2015 or the song in the video and its contents . As for spam comments other common patterns are to promote gifts or ask to follow some channel or website.\n",
        "\n",
        "Let's create some new rules that include these patterns:"
      ]
    },
    {
      "cell_type": "code",
      "execution_count": null,
      "metadata": {
        "id": "pO_R8ZgME5NK"
      },
      "outputs": [],
      "source": [
        "def labeling_rules_2(x):\n",
        "\n",
        "    # Convert text to lowercase\n",
        "    x = x.lower()\n",
        "\n",
        "    # Define list of rules to classify as NOT_SPAM\n",
        "    not_spam_rules = [\n",
        "        \"view\" in x,\n",
        "        \"song\" in x\n",
        "    ]\n",
        "\n",
        "    # Define list of rules to classify as SPAM\n",
        "    spam_rules = [\n",
        "        \"free\" in x,\n",
        "        \"subs\" in x,\n",
        "        \"gift\" in x,\n",
        "        \"follow\" in x,\n",
        "        \"http\" in x\n",
        "    ]\n",
        "\n",
        "    # Classify depending on the rules\n",
        "    if any(not_spam_rules):\n",
        "        return 0\n",
        "\n",
        "    if any(spam_rules):\n",
        "        return 1\n",
        "\n",
        "    return -1"
      ]
    },
    {
      "cell_type": "markdown",
      "metadata": {
        "id": "VuBBCpncE5NL"
      },
      "source": [
        "This new set of rules looks more promising as it includes more patterns to classify as SPAM as well as some patterns to classify as NOT_SPAM. This should result in more data points with a label different to NO_LABEL.\n",
        "\n",
        "Let's check if this is the case."
      ]
    },
    {
      "cell_type": "code",
      "execution_count": null,
      "metadata": {
        "id": "EWjlOnpSE5NL",
        "outputId": "c3b31421-9ce8-4395-a62f-374898ec400a"
      },
      "outputs": [
        {
          "name": "stdout",
          "output_type": "stream",
          "text": [
            "Proportion of data points kept: 44.12%\n",
            "\n",
            "second-iteration labeling has an accuracy of 70.92%\n",
            "\n"
          ]
        },
        {
          "data": {
            "image/png": "[encoded data removed]",
            "text/plain": [
              "<Figure size 432x288 with 1 Axes>"
            ]
          },
          "metadata": {
            "needs_background": "light"
          },
          "output_type": "display_data"
        }
      ],
      "source": [
        "label_given_rules(X_train, labeling_rules_2, \"second-iteration\")\n",
        "\n",
        "plot_accuracies()"
      ]
    },
    {
      "cell_type": "markdown",
      "metadata": {
        "id": "4bekACYTE5NL"
      },
      "source": [
        "This time 44% of the original dataset was given a decisive label and there were data points for both labels, this helped the model reach a higher accuracy when compared to the first iteration. Now the accuracy is considerably higher than the random labeling but it is still very far away from the upper bound.\n",
        "\n",
        "Let's see if we can make it even better!"
      ]
    },
    {
      "cell_type": "markdown",
      "metadata": {
        "id": "E_0qr0sFE5NM"
      },
      "source": [
        "### Third Iteration - Even more rules\n",
        "\n",
        "The rules we have defined so far are doing a fair job. Let's add two additional rules, one for classifying SPAM comments and the other for the opposite task.\n",
        "\n",
        "At a glimpse it looks like NOT_SPAM comments are usually shorter. This may be due to them not including hyperlinks but also in general they tend to be more concrete such as \"I love this song!\".\n",
        "\n",
        "Let's take a look at the average number of characters for SPAM comments vs NOT_SPAM oned:"
      ]
    },
    {
      "cell_type": "code",
      "execution_count": null,
      "metadata": {
        "id": "qUWqodP3E5NM",
        "outputId": "012620e0-9c3a-4a3a-b95e-7f43429228df"
      },
      "outputs": [
        {
          "name": "stdout",
          "output_type": "stream",
          "text": [
            "NOT_SPAM comments have an average of 49.64 characters.\n",
            "SPAM comments have an average of 137.34 characters.\n"
          ]
        }
      ],
      "source": [
        "from statistics import mean\n",
        "\n",
        "print(f\"NOT_SPAM comments have an average of {mean([len(t) for t in df_labeled[df_labeled.label==0].text]):.2f} characters.\")\n",
        "print(f\"SPAM comments have an average of {mean([len(t) for t in df_labeled[df_labeled.label==1].text]):.2f} characters.\")"
      ]
    },
    {
      "cell_type": "markdown",
      "metadata": {
        "id": "NNzX7gUsE5NM"
      },
      "source": [
        "It sure looks like there is a big difference in the number of characters for both types of comments.\n",
        "\n",
        "To decide on a threshold to classify as NOT_SPAM let's plot a histogram of the number of characters for NOT_SPAM comments:"
      ]
    },
    {
      "cell_type": "code",
      "execution_count": null,
      "metadata": {
        "id": "ojbcz0kqE5NN",
        "outputId": "5f563323-e2b6-4430-a6b8-936166e1572e"
      },
      "outputs": [
        {
          "data": {
            "image/png": "[encoded data removed]",
            "text/plain": [
              "<Figure size 432x288 with 1 Axes>"
            ]
          },
          "metadata": {
            "needs_background": "light"
          },
          "output_type": "display_data"
        }
      ],
      "source": [
        "plt.hist([len(t) for t in df_labeled[df_labeled.label==0].text], range=(0,100))\n",
        "plt.show()"
      ]
    },
    {
      "cell_type": "markdown",
      "metadata": {
        "id": "d8kBhYG6E5NO"
      },
      "source": [
        "The majority of NOT_SPAM comments have 30 or less characters so we'll use that as a threshold.\n",
        "\n",
        "Another prevalent pattern in spam comments is to ask users to \"check out\" a channel, website or link.\n",
        "\n",
        "Let's add these two new rules:"
      ]
    },
    {
      "cell_type": "code",
      "execution_count": null,
      "metadata": {
        "id": "i2DwQc_eE5NP"
      },
      "outputs": [],
      "source": [
        "def labeling_rules_3(x):\n",
        "\n",
        "    # Convert text to lowercase\n",
        "    x = x.lower()\n",
        "\n",
        "    # Define list of rules to classify as NOT_SPAM\n",
        "    not_spam_rules = [\n",
        "        \"view\" in x,\n",
        "        \"song\" in x,\n",
        "        len(x) < 30\n",
        "    ]\n",
        "\n",
        "\n",
        "    # Define list of rules to classify as SPAM\n",
        "    spam_rules = [\n",
        "        \"free\" in x,\n",
        "        \"subs\" in x,\n",
        "        \"gift\" in x,\n",
        "        \"follow\" in x,\n",
        "        \"http\" in x,\n",
        "        \"check out\" in x\n",
        "    ]\n",
        "\n",
        "    # Classify depending on the rules\n",
        "    if any(not_spam_rules):\n",
        "        return 0\n",
        "\n",
        "    if any(spam_rules):\n",
        "        return 1\n",
        "\n",
        "    return -1"
      ]
    },
    {
      "cell_type": "code",
      "execution_count": null,
      "metadata": {
        "id": "bRmWaPxIE5NP",
        "outputId": "6ee079cc-ecf9-4161-8f70-fdc2d6ea6642"
      },
      "outputs": [
        {
          "name": "stdout",
          "output_type": "stream",
          "text": [
            "Proportion of data points kept: 78.26%\n",
            "\n",
            "third-iteration labeling has an accuracy of 86.22%\n",
            "\n"
          ]
        },
        {
          "data": {
            "image/png": "[encoded data removed]",
            "text/plain": [
              "<Figure size 432x288 with 1 Axes>"
            ]
          },
          "metadata": {
            "needs_background": "light"
          },
          "output_type": "display_data"
        }
      ],
      "source": [
        "label_given_rules(X_train, labeling_rules_3, \"third-iteration\")\n",
        "\n",
        "plot_accuracies()"
      ]
    },
    {
      "cell_type": "markdown",
      "metadata": {
        "id": "CNRjKPLUE5NR"
      },
      "source": [
        "These new rules do a pretty good job at both, covering the dataset and having a good model accuracy. To be more concrete this labeling strategy reached an accuracy of ~86%! We are getting closer and closer to the upper bound defined by using the true labels.\n",
        "\n",
        "We could keep going on adding more rules to improve accuracy and we do encourage you to try it out yourself!\n",
        "\n",
        "\n",
        "### Come up with your own rules\n",
        "\n",
        "The following cells contain some code to help you inspect the dataset for patterns and to test out these patterns. The ones used before are commented out in case you want start from scratch or re-use them."
      ]
    },
    {
      "cell_type": "code",
      "execution_count": null,
      "metadata": {
        "id": "XMDsEpVfE5NR"
      },
      "outputs": [],
      "source": [
        "# Configure pandas to print out all rows to check the complete dataset\n",
        "pd.set_option('display.max_rows', None)\n",
        "\n",
        "# Check NOT_SPAM comments\n",
        "df_labeled[df_labeled.label==0]"
      ]
    },
    {
      "cell_type": "code",
      "execution_count": null,
      "metadata": {
        "id": "Lm_UtLwZE5NS"
      },
      "outputs": [],
      "source": [
        "# Check SPAM comments\n",
        "df_labeled[df_labeled.label==1]"
      ]
    },
    {
      "cell_type": "code",
      "execution_count": 27,
      "metadata": {
        "id": "aZqNavStE5NS"
      },
      "outputs": [],
      "source": [
        "def my_labeling_rules(x):\n",
        "\n",
        "    # Convert text to lowercase\n",
        "    x = x.lower()\n",
        "\n",
        "    # Define list of rules to classify as SPAM\n",
        "    spam_rules = [\n",
        "        \"free\" in x,\n",
        "        \"subs\" in x,\n",
        "        \"gift\" in x,\n",
        "        \"follow\" in x,\n",
        "        \"http\" in x,\n",
        "        \"check out\" in x,\n",
        "        \".tv\" in x,\n",
        "        \".com\" in x,\n",
        "        \".org\" in x\n",
        "    ]\n",
        "\n",
        "    if any(spam_rules):\n",
        "        return 1\n",
        "    else:\n",
        "        return 0\n",
        "\n",
        "    return -1"
      ]
    },
    {
      "cell_type": "code",
      "source": [
        "label_given_rules(X_train, my_labeling_rules, \"My-iteration\")\n",
        "plot_accuracies()"
      ],
      "metadata": {
        "colab": {
          "base_uri": "https://localhost:8080/",
          "height": 499
        },
        "id": "9WNi-QsVGAl5",
        "outputId": "47024d33-fa0a-4623-a29f-789df1e5903a"
      },
      "execution_count": 28,
      "outputs": [
        {
          "output_type": "stream",
          "name": "stdout",
          "text": [
            "Proportion of data points kept: 100.00%\n",
            "\n",
            "My-iteration labeling has an accuracy of 92.86%\n",
            "\n"
          ]
        },
        {
          "output_type": "display_data",
          "data": {
            "text/plain": [
              "<Figure size 640x480 with 1 Axes>"
            ],
            "image/png": "[encoded data removed]"
          },
          "metadata": {}
        }
      ]
    },
    {
      "cell_type": "code",
      "source": [
        "# Some code just to check the differences in predictions between my iteration and true labels training.\n",
        "x_train, labels, acc = label_given_rules(X_train, my_labeling_rules, \"My-iteration\")\n",
        "trues = y_train.values"
      ],
      "metadata": {
        "colab": {
          "base_uri": "https://localhost:8080/"
        },
        "id": "ctQ4hIy2H0_i",
        "outputId": "e08036fa-ea0d-4201-df71-e53b58ba8a29"
      },
      "execution_count": 30,
      "outputs": [
        {
          "output_type": "stream",
          "name": "stdout",
          "text": [
            "Proportion of data points kept: 100.00%\n",
            "\n",
            "My-iteration labeling has an accuracy of 92.86%\n",
            "\n"
          ]
        }
      ]
    },
    {
      "cell_type": "code",
      "source": [
        "def accuracy_and_predictions(X_tr, y_tr, X_te=X_test, y_te=y_test,\n",
        "                       clf=MultinomialNB(), vectorizer=vectorizer):\n",
        "\n",
        "    # Encode train text\n",
        "    X_train_vect = vectorizer.fit_transform(X_tr.text.tolist())\n",
        "\n",
        "    # Fit model\n",
        "    clf.fit(X=X_train_vect, y=y_tr)\n",
        "\n",
        "    # Vectorize test text\n",
        "    X_test_vect = vectorizer.transform(X_te.text.tolist())\n",
        "\n",
        "    # Make predictions for the test set\n",
        "    preds = clf.predict(X_test_vect)\n",
        "\n",
        "    # Print accuracy score\n",
        "    print(f\"Accuracy score : {accuracy_score(preds, y_te)}\")\n",
        "\n",
        "    # Return predictions\n",
        "    return preds"
      ],
      "metadata": {
        "id": "XPTy19voIOwS"
      },
      "execution_count": 31,
      "outputs": []
    },
    {
      "cell_type": "code",
      "source": [
        "my_preds = accuracy_and_predictions(x_train, labels)\n",
        "true_values_preds = accuracy_and_predictions(X_train, y_train)\n",
        "\n",
        "difference = np.where(np.not_equal(my_preds, true_values_preds))[0]\n",
        "for i in range(15):\n",
        "  index = difference[i]\n",
        "  print(\"=============================\")\n",
        "  print(f\"'{X_test.iloc[index].text}'\")\n",
        "  print(f\"True : {y_test.iloc[index]}\")\n",
        "  print(f\"TrueValue Pred : {true_values_preds[index]}\")\n",
        "  print(f\"My pred : {my_preds[index]}\")"
      ],
      "metadata": {
        "colab": {
          "base_uri": "https://localhost:8080/"
        },
        "id": "yksGStARISUy",
        "outputId": "fa6f21e1-47b5-4605-b792-778268bf4f68"
      },
      "execution_count": 32,
      "outputs": [
        {
          "output_type": "stream",
          "name": "stdout",
          "text": [
            "Accuracy score : 0.9285714285714286\n",
            "Accuracy score : 0.9107142857142857\n",
            "=============================\n",
            "':D﻿'\n",
            "True : 0\n",
            "TrueValue Pred : 1\n",
            "My pred : 0\n",
            "=============================\n",
            "'Hi -this is Johnny: 1. If You already know my music - thumb this up, because You found it this way, too. 2. If You want to hear original songs completely made by 1 person, continue reading:  I sing, write original music+lyrics &amp; play guitar, bass, drums &amp; keyboards. I&#39;m a 1-man-band. My music is completely independent &amp; 100% listener-supported. If You want to hear it &amp; if You&#39;re willing to help record new album - click on my name/picture.  Thank You &amp; enjoy the music - wish You awesome day!'\n",
            "True : 1\n",
            "TrueValue Pred : 1\n",
            "My pred : 0\n",
            "=============================\n",
            "'looooooooooooooooooooovvvvvvvvveeeeeeeeeeee ittttttttttttt﻿'\n",
            "True : 0\n",
            "TrueValue Pred : 1\n",
            "My pred : 0\n",
            "=============================\n",
            "'This comment will randomly get lot's of likes and replies for no reason. I  also like Jello. Strawberry jello.﻿'\n",
            "True : 0\n",
            "TrueValue Pred : 1\n",
            "My pred : 0\n",
            "=============================\n",
            "'Hi loving it﻿'\n",
            "True : 0\n",
            "TrueValue Pred : 1\n",
            "My pred : 0\n",
            "=============================\n",
            "'Like this comment if you are watching on a phone﻿'\n",
            "True : 1\n",
            "TrueValue Pred : 1\n",
            "My pred : 0\n",
            "=============================\n",
            "'I want to see Shakira, not football :)'\n",
            "True : 0\n",
            "TrueValue Pred : 1\n",
            "My pred : 0\n",
            "=============================\n",
            "'Thumbs up if you listen this in 2015.﻿'\n",
            "True : 0\n",
            "TrueValue Pred : 1\n",
            "My pred : 0\n",
            "=============================\n",
            "'Like﻿'\n",
            "True : 0\n",
            "TrueValue Pred : 1\n",
            "My pred : 0\n",
            "=============================\n",
            "'Yeah! Let&#39;s start the party!﻿'\n",
            "True : 0\n",
            "TrueValue Pred : 1\n",
            "My pred : 0\n",
            "=============================\n",
            "'I always have goose bumps at that part'\n",
            "True : 0\n",
            "TrueValue Pred : 1\n",
            "My pred : 0\n",
            "=============================\n",
            "'We pray for you Little Psy ♡﻿'\n",
            "True : 0\n",
            "TrueValue Pred : 1\n",
            "My pred : 0\n",
            "=============================\n",
            "'look at my channel i make minecraft pe lets play ﻿'\n",
            "True : 1\n",
            "TrueValue Pred : 1\n",
            "My pred : 0\n",
            "=============================\n",
            "'give it a like﻿'\n",
            "True : 1\n",
            "TrueValue Pred : 1\n",
            "My pred : 0\n",
            "=============================\n",
            "'Dang Dat little kid gat moves﻿'\n",
            "True : 0\n",
            "TrueValue Pred : 0\n",
            "My pred : 1\n"
          ]
        }
      ]
    },
    {
      "cell_type": "markdown",
      "metadata": {
        "id": "IlTAwYOZE5NT"
      },
      "source": [
        "**Congratulations on finishing this ungraded lab!**\n",
        "\n",
        "By now you should have a better understanding of having good labelled data. In general, **the better your labels are, the better your models will be**. Also it is important to realize that the process of correctly labeling data is a very complex one. **Remember, you can think of each one of the iterations of the automatic labeling process to be a different labeler with different criteria for labeling**. If you assume you are hiring labelers you will want to hire the latter for sure!\n",
        "\n",
        "Another important point to keep in mind is that establishing baselines to compare against is really important as they provide perspective on how well your data and models are performing.\n",
        "\n",
        "**Keep it up!**"
      ]
    }
  ],
  "metadata": {
    "jupytext": {
      "encoding": "# -*- coding: utf-8 -*-"
    },
    "kernelspec": {
      "display_name": "Python 3",
      "language": "python",
      "name": "python3"
    },
    "language_info": {
      "codemirror_mode": {
        "name": "ipython",
        "version": 3
      },
      "file_extension": ".py",
      "mimetype": "text/x-python",
      "name": "python",
      "nbconvert_exporter": "python",
      "pygments_lexer": "ipython3",
      "version": "3.7.6"
    },
    "colab": {
      "provenance": []
    }
  },
  "nbformat": 4,
  "nbformat_minor": 0
}