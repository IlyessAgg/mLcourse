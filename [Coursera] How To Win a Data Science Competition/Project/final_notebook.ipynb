{
 "cells": [
  {
   "cell_type": "markdown",
   "metadata": {},
   "source": [
    "# Predict Future Sales\n",
    "The goal of this challenge is to predict the future sales of a company. We need to be able to predict the monthly sales of each shop and for each unique item.\n",
    "My goal for this challenge wasn't to get the best score, I went through this course mostly to get a better understanding of what the best competitors did in terms of feature engineering and hyperparamater optimization. Thus I tested a lot of different approaches until I finally achieved a RMSE good enough to pass. Some of the snippets are also taken from other people that went over this challenge before me (mostly on Kaggle)."
   ]
  },
  {
   "cell_type": "markdown",
   "metadata": {
    "toc": 1
   },
   "source": [
    "<h1>Table of Contents<span class=\"tocSkip\"></span></h1>\n",
    "<div class=\"toc\"><ul class=\"toc-item\"><li><span><a href=\"#Requirements\" data-toc-modified-id=\"Requirements-0\"><span class=\"toc-item-num\">0&nbsp;&nbsp;</span>Requirements</a></span></li><li><span><a href=\"#Data-Exploration\" data-toc-modified-id=\"Data-Exploration-1\"><span class=\"toc-item-num\">1&nbsp;&nbsp;</span>Data Exploration</a></span><ul class=\"toc-item\"><li><span><a href=\"#Missing-combinations\" data-toc-modified-id=\"Missing-combinations-1.1\"><span class=\"toc-item-num\">1.1&nbsp;&nbsp;</span>Missing combinations</a></span></li><li><span><a href=\"#Feature-Engineering\" data-toc-modified-id=\"Feature-Engineering-1.2\"><span class=\"toc-item-num\">1.2&nbsp;&nbsp;</span>Feature Engineering</a></span><ul class=\"toc-item\"><li><span><a href=\"#Adding-categories\" data-toc-modified-id=\"Adding-categories-1.2.1\"><span class=\"toc-item-num\">1.2.1&nbsp;&nbsp;</span>Adding categories</a></span></li><li><span><a href=\"#Lag-features\" data-toc-modified-id=\"Lag-features-1.2.2\"><span class=\"toc-item-num\">1.2.2&nbsp;&nbsp;</span>Lag features</a></span></li><li><span><a href=\"#Month-feature\" data-toc-modified-id=\"Month-feature-1.2.3\"><span class=\"toc-item-num\">1.2.3&nbsp;&nbsp;</span>Month feature</a></span></li></ul></li></ul></li><li><span><a href=\"#Model\" data-toc-modified-id=\"Model-2\"><span class=\"toc-item-num\">2&nbsp;&nbsp;</span>Model</a></span><ul class=\"toc-item\"><li><span><a href=\"#Data-Split\" data-toc-modified-id=\"Data-Split-2.1\"><span class=\"toc-item-num\">2.1&nbsp;&nbsp;</span>Data Split</a></span></li><li><span><a href=\"#Training\" data-toc-modified-id=\"Training-2.2\"><span class=\"toc-item-num\">2.2&nbsp;&nbsp;</span>Training</a></span></li><li><span><a href=\"#Feature-Importance\" data-toc-modified-id=\"Feature-Importance-2.3\"><span class=\"toc-item-num\">2.3&nbsp;&nbsp;</span>Feature Importance</a></span></li></ul></li><li><span><a href=\"#Applying-to-test-set\" data-toc-modified-id=\"Applying-to-test-set-3\"><span class=\"toc-item-num\">3&nbsp;&nbsp;</span>Applying to test set</a></span></li><li><span><a href=\"#Conclusion\" data-toc-modified-id=\"Conclusion-4\"><span class=\"toc-item-num\">4&nbsp;&nbsp;</span>Conclusion</a></span></li></ul></div>"
   ]
  },
  {
   "cell_type": "markdown",
   "metadata": {},
   "source": [
    "## Requirements\n",
    "\n",
    "The code has been developped & run on Kaggle."
   ]
  },
  {
   "cell_type": "code",
   "execution_count": 1,
   "metadata": {},
   "outputs": [],
   "source": [
    "import numpy as np\n",
    "import pandas as pd\n",
    "import matplotlib.pyplot as plt\n",
    "import seaborn as sns\n",
    "\n",
    "import os\n",
    "import warnings\n",
    "warnings.filterwarnings(\"ignore\")"
   ]
  },
  {
   "cell_type": "markdown",
   "metadata": {},
   "source": [
    "## Data Exploration"
   ]
  },
  {
   "cell_type": "code",
   "execution_count": 2,
   "metadata": {},
   "outputs": [],
   "source": [
    "DATA_FOLDER = '/kaggle/input/competitive-data-science-predict-future-sales/'\n",
    "\n",
    "transactions    = pd.read_csv(DATA_FOLDER + 'sales_train.csv')\n",
    "items           = pd.read_csv(DATA_FOLDER + 'items.csv')\n",
    "item_categories = pd.read_csv(DATA_FOLDER + 'item_categories.csv')\n",
    "shops           = pd.read_csv(DATA_FOLDER + 'shops.csv')\n",
    "test            = pd.read_csv(DATA_FOLDER + 'test.csv')"
   ]
  },
  {
   "cell_type": "code",
   "execution_count": 3,
   "metadata": {},
   "outputs": [
    {
     "name": "stdout",
     "output_type": "stream",
     "text": [
      "(60, 2)\n"
     ]
    },
    {
     "data": {
      "text/html": [
       "<div>\n",
       "<style scoped>\n",
       "    .dataframe tbody tr th:only-of-type {\n",
       "        vertical-align: middle;\n",
       "    }\n",
       "\n",
       "    .dataframe tbody tr th {\n",
       "        vertical-align: top;\n",
       "    }\n",
       "\n",
       "    .dataframe thead th {\n",
       "        text-align: right;\n",
       "    }\n",
       "</style>\n",
       "<table border=\"1\" class=\"dataframe\">\n",
       "  <thead>\n",
       "    <tr style=\"text-align: right;\">\n",
       "      <th></th>\n",
       "      <th>shop_name</th>\n",
       "      <th>shop_id</th>\n",
       "    </tr>\n",
       "  </thead>\n",
       "  <tbody>\n",
       "    <tr>\n",
       "      <th>0</th>\n",
       "      <td>!Якутск Орджоникидзе, 56 фран</td>\n",
       "      <td>0</td>\n",
       "    </tr>\n",
       "    <tr>\n",
       "      <th>1</th>\n",
       "      <td>!Якутск ТЦ \"Центральный\" фран</td>\n",
       "      <td>1</td>\n",
       "    </tr>\n",
       "    <tr>\n",
       "      <th>2</th>\n",
       "      <td>Адыгея ТЦ \"Мега\"</td>\n",
       "      <td>2</td>\n",
       "    </tr>\n",
       "    <tr>\n",
       "      <th>3</th>\n",
       "      <td>Балашиха ТРК \"Октябрь-Киномир\"</td>\n",
       "      <td>3</td>\n",
       "    </tr>\n",
       "    <tr>\n",
       "      <th>4</th>\n",
       "      <td>Волжский ТЦ \"Волга Молл\"</td>\n",
       "      <td>4</td>\n",
       "    </tr>\n",
       "  </tbody>\n",
       "</table>\n",
       "</div>"
      ],
      "text/plain": [
       "                        shop_name  shop_id\n",
       "0   !Якутск Орджоникидзе, 56 фран        0\n",
       "1   !Якутск ТЦ \"Центральный\" фран        1\n",
       "2                Адыгея ТЦ \"Мега\"        2\n",
       "3  Балашиха ТРК \"Октябрь-Киномир\"        3\n",
       "4        Волжский ТЦ \"Волга Молл\"        4"
      ]
     },
     "execution_count": 3,
     "metadata": {},
     "output_type": "execute_result"
    }
   ],
   "source": [
    "print(shops.shape)\n",
    "shops.head()"
   ]
  },
  {
   "cell_type": "code",
   "execution_count": 4,
   "metadata": {},
   "outputs": [
    {
     "name": "stdout",
     "output_type": "stream",
     "text": [
      "(84, 2)\n"
     ]
    },
    {
     "data": {
      "text/html": [
       "<div>\n",
       "<style scoped>\n",
       "    .dataframe tbody tr th:only-of-type {\n",
       "        vertical-align: middle;\n",
       "    }\n",
       "\n",
       "    .dataframe tbody tr th {\n",
       "        vertical-align: top;\n",
       "    }\n",
       "\n",
       "    .dataframe thead th {\n",
       "        text-align: right;\n",
       "    }\n",
       "</style>\n",
       "<table border=\"1\" class=\"dataframe\">\n",
       "  <thead>\n",
       "    <tr style=\"text-align: right;\">\n",
       "      <th></th>\n",
       "      <th>item_category_name</th>\n",
       "      <th>item_category_id</th>\n",
       "    </tr>\n",
       "  </thead>\n",
       "  <tbody>\n",
       "    <tr>\n",
       "      <th>0</th>\n",
       "      <td>PC - Гарнитуры/Наушники</td>\n",
       "      <td>0</td>\n",
       "    </tr>\n",
       "    <tr>\n",
       "      <th>1</th>\n",
       "      <td>Аксессуары - PS2</td>\n",
       "      <td>1</td>\n",
       "    </tr>\n",
       "    <tr>\n",
       "      <th>2</th>\n",
       "      <td>Аксессуары - PS3</td>\n",
       "      <td>2</td>\n",
       "    </tr>\n",
       "    <tr>\n",
       "      <th>3</th>\n",
       "      <td>Аксессуары - PS4</td>\n",
       "      <td>3</td>\n",
       "    </tr>\n",
       "    <tr>\n",
       "      <th>4</th>\n",
       "      <td>Аксессуары - PSP</td>\n",
       "      <td>4</td>\n",
       "    </tr>\n",
       "  </tbody>\n",
       "</table>\n",
       "</div>"
      ],
      "text/plain": [
       "        item_category_name  item_category_id\n",
       "0  PC - Гарнитуры/Наушники                 0\n",
       "1         Аксессуары - PS2                 1\n",
       "2         Аксессуары - PS3                 2\n",
       "3         Аксессуары - PS4                 3\n",
       "4         Аксессуары - PSP                 4"
      ]
     },
     "execution_count": 4,
     "metadata": {},
     "output_type": "execute_result"
    }
   ],
   "source": [
    "print(item_categories.shape)\n",
    "item_categories.head()"
   ]
  },
  {
   "cell_type": "code",
   "execution_count": 5,
   "metadata": {},
   "outputs": [
    {
     "name": "stdout",
     "output_type": "stream",
     "text": [
      "(22170, 3)\n"
     ]
    },
    {
     "data": {
      "text/html": [
       "<div>\n",
       "<style scoped>\n",
       "    .dataframe tbody tr th:only-of-type {\n",
       "        vertical-align: middle;\n",
       "    }\n",
       "\n",
       "    .dataframe tbody tr th {\n",
       "        vertical-align: top;\n",
       "    }\n",
       "\n",
       "    .dataframe thead th {\n",
       "        text-align: right;\n",
       "    }\n",
       "</style>\n",
       "<table border=\"1\" class=\"dataframe\">\n",
       "  <thead>\n",
       "    <tr style=\"text-align: right;\">\n",
       "      <th></th>\n",
       "      <th>item_name</th>\n",
       "      <th>item_id</th>\n",
       "      <th>item_category_id</th>\n",
       "    </tr>\n",
       "  </thead>\n",
       "  <tbody>\n",
       "    <tr>\n",
       "      <th>0</th>\n",
       "      <td>! ВО ВЛАСТИ НАВАЖДЕНИЯ (ПЛАСТ.)         D</td>\n",
       "      <td>0</td>\n",
       "      <td>40</td>\n",
       "    </tr>\n",
       "    <tr>\n",
       "      <th>1</th>\n",
       "      <td>!ABBYY FineReader 12 Professional Edition Full...</td>\n",
       "      <td>1</td>\n",
       "      <td>76</td>\n",
       "    </tr>\n",
       "    <tr>\n",
       "      <th>2</th>\n",
       "      <td>***В ЛУЧАХ СЛАВЫ   (UNV)                    D</td>\n",
       "      <td>2</td>\n",
       "      <td>40</td>\n",
       "    </tr>\n",
       "    <tr>\n",
       "      <th>3</th>\n",
       "      <td>***ГОЛУБАЯ ВОЛНА  (Univ)                      D</td>\n",
       "      <td>3</td>\n",
       "      <td>40</td>\n",
       "    </tr>\n",
       "    <tr>\n",
       "      <th>4</th>\n",
       "      <td>***КОРОБКА (СТЕКЛО)                       D</td>\n",
       "      <td>4</td>\n",
       "      <td>40</td>\n",
       "    </tr>\n",
       "  </tbody>\n",
       "</table>\n",
       "</div>"
      ],
      "text/plain": [
       "                                           item_name  item_id  \\\n",
       "0          ! ВО ВЛАСТИ НАВАЖДЕНИЯ (ПЛАСТ.)         D        0   \n",
       "1  !ABBYY FineReader 12 Professional Edition Full...        1   \n",
       "2      ***В ЛУЧАХ СЛАВЫ   (UNV)                    D        2   \n",
       "3    ***ГОЛУБАЯ ВОЛНА  (Univ)                      D        3   \n",
       "4        ***КОРОБКА (СТЕКЛО)                       D        4   \n",
       "\n",
       "   item_category_id  \n",
       "0                40  \n",
       "1                76  \n",
       "2                40  \n",
       "3                40  \n",
       "4                40  "
      ]
     },
     "execution_count": 5,
     "metadata": {},
     "output_type": "execute_result"
    }
   ],
   "source": [
    "print(items.shape)\n",
    "items.head()"
   ]
  },
  {
   "cell_type": "code",
   "execution_count": 6,
   "metadata": {},
   "outputs": [
    {
     "name": "stdout",
     "output_type": "stream",
     "text": [
      "(2935849, 6)\n"
     ]
    },
    {
     "data": {
      "text/html": [
       "<div>\n",
       "<style scoped>\n",
       "    .dataframe tbody tr th:only-of-type {\n",
       "        vertical-align: middle;\n",
       "    }\n",
       "\n",
       "    .dataframe tbody tr th {\n",
       "        vertical-align: top;\n",
       "    }\n",
       "\n",
       "    .dataframe thead th {\n",
       "        text-align: right;\n",
       "    }\n",
       "</style>\n",
       "<table border=\"1\" class=\"dataframe\">\n",
       "  <thead>\n",
       "    <tr style=\"text-align: right;\">\n",
       "      <th></th>\n",
       "      <th>date</th>\n",
       "      <th>date_block_num</th>\n",
       "      <th>shop_id</th>\n",
       "      <th>item_id</th>\n",
       "      <th>item_price</th>\n",
       "      <th>item_cnt_day</th>\n",
       "    </tr>\n",
       "  </thead>\n",
       "  <tbody>\n",
       "    <tr>\n",
       "      <th>0</th>\n",
       "      <td>02.01.2013</td>\n",
       "      <td>0</td>\n",
       "      <td>59</td>\n",
       "      <td>22154</td>\n",
       "      <td>999.00</td>\n",
       "      <td>1.0</td>\n",
       "    </tr>\n",
       "    <tr>\n",
       "      <th>1</th>\n",
       "      <td>03.01.2013</td>\n",
       "      <td>0</td>\n",
       "      <td>25</td>\n",
       "      <td>2552</td>\n",
       "      <td>899.00</td>\n",
       "      <td>1.0</td>\n",
       "    </tr>\n",
       "    <tr>\n",
       "      <th>2</th>\n",
       "      <td>05.01.2013</td>\n",
       "      <td>0</td>\n",
       "      <td>25</td>\n",
       "      <td>2552</td>\n",
       "      <td>899.00</td>\n",
       "      <td>-1.0</td>\n",
       "    </tr>\n",
       "    <tr>\n",
       "      <th>3</th>\n",
       "      <td>06.01.2013</td>\n",
       "      <td>0</td>\n",
       "      <td>25</td>\n",
       "      <td>2554</td>\n",
       "      <td>1709.05</td>\n",
       "      <td>1.0</td>\n",
       "    </tr>\n",
       "    <tr>\n",
       "      <th>4</th>\n",
       "      <td>15.01.2013</td>\n",
       "      <td>0</td>\n",
       "      <td>25</td>\n",
       "      <td>2555</td>\n",
       "      <td>1099.00</td>\n",
       "      <td>1.0</td>\n",
       "    </tr>\n",
       "  </tbody>\n",
       "</table>\n",
       "</div>"
      ],
      "text/plain": [
       "         date  date_block_num  shop_id  item_id  item_price  item_cnt_day\n",
       "0  02.01.2013               0       59    22154      999.00           1.0\n",
       "1  03.01.2013               0       25     2552      899.00           1.0\n",
       "2  05.01.2013               0       25     2552      899.00          -1.0\n",
       "3  06.01.2013               0       25     2554     1709.05           1.0\n",
       "4  15.01.2013               0       25     2555     1099.00           1.0"
      ]
     },
     "execution_count": 6,
     "metadata": {},
     "output_type": "execute_result"
    }
   ],
   "source": [
    "print(transactions.shape)\n",
    "transactions.head()"
   ]
  },
  {
   "cell_type": "code",
   "execution_count": 8,
   "metadata": {},
   "outputs": [
    {
     "data": {
      "text/plain": [
       " 1.0     2629372\n",
       " 2.0      194201\n",
       " 3.0       47350\n",
       " 4.0       19685\n",
       " 5.0       10474\n",
       "-1.0        7252\n",
       " 6.0        6338\n",
       " 7.0        4057\n",
       " 8.0        2903\n",
       " 9.0        2177\n",
       " 10.0       1820\n",
       "Name: item_cnt_day, dtype: int64"
      ]
     },
     "execution_count": 8,
     "metadata": {},
     "output_type": "execute_result"
    }
   ],
   "source": [
    "transactions['item_cnt_day'].value_counts()[:10]"
   ]
  },
  {
   "cell_type": "code",
   "execution_count": 9,
   "metadata": {},
   "outputs": [],
   "source": [
    "## We're interested in the monthly sales, so we're going to ignore the items returned\n",
    "transactions.drop(transactions[transactions['item_cnt_day'] == -1.0].index, inplace=True)"
   ]
  },
  {
   "cell_type": "markdown",
   "metadata": {},
   "source": [
    "For my approach I decided to keep only the shops and items that we were required to predict on the test set. We already have a pretty big dataset, and it will only get bigger as a lot of combinations between shop and item_ids are missing (each item isn't necessarily bought in each shop)."
   ]
  },
  {
   "cell_type": "code",
   "execution_count": 132,
   "metadata": {},
   "outputs": [
    {
     "name": "stdout",
     "output_type": "stream",
     "text": [
      "(2928597, 6)\n"
     ]
    }
   ],
   "source": [
    "print(transactions.shape)"
   ]
  },
  {
   "cell_type": "code",
   "execution_count": 133,
   "metadata": {},
   "outputs": [],
   "source": [
    "test_shops = test.shop_id.unique()\n",
    "test_items = test.item_id.unique()\n",
    "train = transactions[transactions.shop_id.isin(test_shops)]\n",
    "train = train[train.item_id.isin(test_items)]"
   ]
  },
  {
   "cell_type": "code",
   "execution_count": 134,
   "metadata": {},
   "outputs": [
    {
     "name": "stdout",
     "output_type": "stream",
     "text": [
      "(1221546, 6)\n"
     ]
    }
   ],
   "source": [
    "print(train.shape)"
   ]
  },
  {
   "cell_type": "markdown",
   "metadata": {},
   "source": [
    "After keeping only the shops and items present in the test we've halfed our transactions dataset, but we still have 1M+ rows.  \n",
    "We're now going to remove outliers present in our data."
   ]
  },
  {
   "cell_type": "code",
   "execution_count": 135,
   "metadata": {},
   "outputs": [
    {
     "data": {
      "image/png": "[encoded data removed]",
      "text/plain": [
       "<Figure size 432x288 with 1 Axes>"
      ]
     },
     "metadata": {
      "needs_background": "light"
     },
     "output_type": "display_data"
    }
   ],
   "source": [
    "sns.boxplot(x=train.item_price)\n",
    "plt.title('Outliers By Item Price');"
   ]
  },
  {
   "cell_type": "code",
   "execution_count": 136,
   "metadata": {},
   "outputs": [
    {
     "data": {
      "image/png": "[encoded data removed]",
      "text/plain": [
       "<Figure size 432x288 with 1 Axes>"
      ]
     },
     "metadata": {
      "needs_background": "light"
     },
     "output_type": "display_data"
    }
   ],
   "source": [
    "sns.boxplot(x=train.item_cnt_day)\n",
    "plt.title('Outliers By Item Day');"
   ]
  },
  {
   "cell_type": "code",
   "execution_count": 137,
   "metadata": {},
   "outputs": [],
   "source": [
    "train = train[train.item_price<100000]\n",
    "train = train[train.item_cnt_day<1001]"
   ]
  },
  {
   "cell_type": "markdown",
   "metadata": {},
   "source": [
    "### Missing combinations\n",
    "As I said earlier each item isn't necessarily bought in each shop. Moreover, even if an item is sold, he's not necessarily sold every month. Hence we're going to have to add those missing combinations and we'll just fill them with 0 (a missing combination means this item hasn't been sold this month in this shop).  \n",
    "We're first going to create a grid with all the possible combinations, then group our transaction datframe and merge it with the grid to complete our dataframe with the missing combinations."
   ]
  },
  {
   "cell_type": "code",
   "execution_count": 138,
   "metadata": {},
   "outputs": [
    {
     "name": "stdout",
     "output_type": "stream",
     "text": [
      "(2731538, 3)\n"
     ]
    },
    {
     "data": {
      "text/html": [
       "<div>\n",
       "<style scoped>\n",
       "    .dataframe tbody tr th:only-of-type {\n",
       "        vertical-align: middle;\n",
       "    }\n",
       "\n",
       "    .dataframe tbody tr th {\n",
       "        vertical-align: top;\n",
       "    }\n",
       "\n",
       "    .dataframe thead th {\n",
       "        text-align: right;\n",
       "    }\n",
       "</style>\n",
       "<table border=\"1\" class=\"dataframe\">\n",
       "  <thead>\n",
       "    <tr style=\"text-align: right;\">\n",
       "      <th></th>\n",
       "      <th>shop_id</th>\n",
       "      <th>item_id</th>\n",
       "      <th>date_block_num</th>\n",
       "    </tr>\n",
       "  </thead>\n",
       "  <tbody>\n",
       "    <tr>\n",
       "      <th>0</th>\n",
       "      <td>59</td>\n",
       "      <td>22154</td>\n",
       "      <td>0</td>\n",
       "    </tr>\n",
       "    <tr>\n",
       "      <th>1</th>\n",
       "      <td>59</td>\n",
       "      <td>2574</td>\n",
       "      <td>0</td>\n",
       "    </tr>\n",
       "    <tr>\n",
       "      <th>2</th>\n",
       "      <td>59</td>\n",
       "      <td>2607</td>\n",
       "      <td>0</td>\n",
       "    </tr>\n",
       "    <tr>\n",
       "      <th>3</th>\n",
       "      <td>59</td>\n",
       "      <td>2614</td>\n",
       "      <td>0</td>\n",
       "    </tr>\n",
       "    <tr>\n",
       "      <th>4</th>\n",
       "      <td>59</td>\n",
       "      <td>2808</td>\n",
       "      <td>0</td>\n",
       "    </tr>\n",
       "  </tbody>\n",
       "</table>\n",
       "</div>"
      ],
      "text/plain": [
       "   shop_id  item_id  date_block_num\n",
       "0       59    22154               0\n",
       "1       59     2574               0\n",
       "2       59     2607               0\n",
       "3       59     2614               0\n",
       "4       59     2808               0"
      ]
     },
     "execution_count": 138,
     "metadata": {},
     "output_type": "execute_result"
    }
   ],
   "source": [
    "from itertools import product\n",
    "index_cols = ['shop_id', 'item_id', 'date_block_num']\n",
    "\n",
    "# For every month we create a grid from all shops/items combinations from that month\n",
    "grid = []\n",
    "for block_num in train['date_block_num'].unique():\n",
    "    cur_shops = train.loc[train['date_block_num'] == block_num, 'shop_id'].unique()\n",
    "    cur_items = train.loc[train['date_block_num'] == block_num, 'item_id'].unique()\n",
    "    grid.append(np.array(list(product(*[cur_shops, cur_items, [block_num]])),dtype='int32'))\n",
    "\n",
    "grid = pd.DataFrame(np.vstack(grid), columns = index_cols,dtype=np.int32)\n",
    "print(grid.shape)\n",
    "grid.head()"
   ]
  },
  {
   "cell_type": "code",
   "execution_count": 139,
   "metadata": {},
   "outputs": [
    {
     "name": "stdout",
     "output_type": "stream",
     "text": [
      "(599915, 5)\n"
     ]
    },
    {
     "data": {
      "text/html": [
       "<div>\n",
       "<style scoped>\n",
       "    .dataframe tbody tr th:only-of-type {\n",
       "        vertical-align: middle;\n",
       "    }\n",
       "\n",
       "    .dataframe tbody tr th {\n",
       "        vertical-align: top;\n",
       "    }\n",
       "\n",
       "    .dataframe thead th {\n",
       "        text-align: right;\n",
       "    }\n",
       "</style>\n",
       "<table border=\"1\" class=\"dataframe\">\n",
       "  <thead>\n",
       "    <tr style=\"text-align: right;\">\n",
       "      <th></th>\n",
       "      <th>date_block_num</th>\n",
       "      <th>shop_id</th>\n",
       "      <th>item_id</th>\n",
       "      <th>item_cnt_month</th>\n",
       "      <th>item_price</th>\n",
       "    </tr>\n",
       "  </thead>\n",
       "  <tbody>\n",
       "    <tr>\n",
       "      <th>0</th>\n",
       "      <td>0</td>\n",
       "      <td>2</td>\n",
       "      <td>33</td>\n",
       "      <td>1.0</td>\n",
       "      <td>499.0</td>\n",
       "    </tr>\n",
       "    <tr>\n",
       "      <th>1</th>\n",
       "      <td>0</td>\n",
       "      <td>2</td>\n",
       "      <td>482</td>\n",
       "      <td>1.0</td>\n",
       "      <td>3300.0</td>\n",
       "    </tr>\n",
       "    <tr>\n",
       "      <th>2</th>\n",
       "      <td>0</td>\n",
       "      <td>2</td>\n",
       "      <td>491</td>\n",
       "      <td>1.0</td>\n",
       "      <td>600.0</td>\n",
       "    </tr>\n",
       "    <tr>\n",
       "      <th>3</th>\n",
       "      <td>0</td>\n",
       "      <td>2</td>\n",
       "      <td>839</td>\n",
       "      <td>1.0</td>\n",
       "      <td>3300.0</td>\n",
       "    </tr>\n",
       "    <tr>\n",
       "      <th>4</th>\n",
       "      <td>0</td>\n",
       "      <td>2</td>\n",
       "      <td>1007</td>\n",
       "      <td>3.0</td>\n",
       "      <td>449.0</td>\n",
       "    </tr>\n",
       "  </tbody>\n",
       "</table>\n",
       "</div>"
      ],
      "text/plain": [
       "   date_block_num  shop_id  item_id  item_cnt_month  item_price\n",
       "0               0        2       33             1.0       499.0\n",
       "1               0        2      482             1.0      3300.0\n",
       "2               0        2      491             1.0       600.0\n",
       "3               0        2      839             1.0      3300.0\n",
       "4               0        2     1007             3.0       449.0"
      ]
     },
     "execution_count": 139,
     "metadata": {},
     "output_type": "execute_result"
    }
   ],
   "source": [
    "X = train.groupby(['date_block_num','shop_id', 'item_id'], as_index=False).agg({'item_cnt_day': 'sum', 'item_price': 'mean'})\n",
    "X.rename(columns={\"item_cnt_day\": \"item_cnt_month\"}, inplace=True)\n",
    "print(X.shape)\n",
    "del train\n",
    "X.head()"
   ]
  },
  {
   "cell_type": "code",
   "execution_count": 140,
   "metadata": {},
   "outputs": [],
   "source": [
    "# Merging sales numbers with the grid dataframe\n",
    "X = pd.merge(grid,X,on=['date_block_num','shop_id','item_id'],how='left').fillna(0)"
   ]
  },
  {
   "cell_type": "markdown",
   "metadata": {},
   "source": [
    "### Feature Engineering  "
   ]
  },
  {
   "cell_type": "markdown",
   "metadata": {},
   "source": [
    "#### Adding categories"
   ]
  },
  {
   "cell_type": "code",
   "execution_count": 141,
   "metadata": {},
   "outputs": [
    {
     "data": {
      "text/html": [
       "<div>\n",
       "<style scoped>\n",
       "    .dataframe tbody tr th:only-of-type {\n",
       "        vertical-align: middle;\n",
       "    }\n",
       "\n",
       "    .dataframe tbody tr th {\n",
       "        vertical-align: top;\n",
       "    }\n",
       "\n",
       "    .dataframe thead th {\n",
       "        text-align: right;\n",
       "    }\n",
       "</style>\n",
       "<table border=\"1\" class=\"dataframe\">\n",
       "  <thead>\n",
       "    <tr style=\"text-align: right;\">\n",
       "      <th></th>\n",
       "      <th>shop_id</th>\n",
       "      <th>item_id</th>\n",
       "      <th>date_block_num</th>\n",
       "      <th>item_cnt_month</th>\n",
       "      <th>item_price</th>\n",
       "      <th>item_category_id</th>\n",
       "    </tr>\n",
       "  </thead>\n",
       "  <tbody>\n",
       "    <tr>\n",
       "      <th>0</th>\n",
       "      <td>59</td>\n",
       "      <td>22154</td>\n",
       "      <td>0</td>\n",
       "      <td>1.0</td>\n",
       "      <td>999.0</td>\n",
       "      <td>37</td>\n",
       "    </tr>\n",
       "    <tr>\n",
       "      <th>1</th>\n",
       "      <td>59</td>\n",
       "      <td>2574</td>\n",
       "      <td>0</td>\n",
       "      <td>2.0</td>\n",
       "      <td>399.0</td>\n",
       "      <td>55</td>\n",
       "    </tr>\n",
       "    <tr>\n",
       "      <th>2</th>\n",
       "      <td>59</td>\n",
       "      <td>2607</td>\n",
       "      <td>0</td>\n",
       "      <td>0.0</td>\n",
       "      <td>0.0</td>\n",
       "      <td>55</td>\n",
       "    </tr>\n",
       "    <tr>\n",
       "      <th>3</th>\n",
       "      <td>59</td>\n",
       "      <td>2614</td>\n",
       "      <td>0</td>\n",
       "      <td>0.0</td>\n",
       "      <td>0.0</td>\n",
       "      <td>55</td>\n",
       "    </tr>\n",
       "    <tr>\n",
       "      <th>4</th>\n",
       "      <td>59</td>\n",
       "      <td>2808</td>\n",
       "      <td>0</td>\n",
       "      <td>15.0</td>\n",
       "      <td>999.0</td>\n",
       "      <td>30</td>\n",
       "    </tr>\n",
       "  </tbody>\n",
       "</table>\n",
       "</div>"
      ],
      "text/plain": [
       "   shop_id  item_id  date_block_num  item_cnt_month  item_price  \\\n",
       "0       59    22154               0             1.0       999.0   \n",
       "1       59     2574               0             2.0       399.0   \n",
       "2       59     2607               0             0.0         0.0   \n",
       "3       59     2614               0             0.0         0.0   \n",
       "4       59     2808               0            15.0       999.0   \n",
       "\n",
       "   item_category_id  \n",
       "0                37  \n",
       "1                55  \n",
       "2                55  \n",
       "3                55  \n",
       "4                30  "
      ]
     },
     "execution_count": 141,
     "metadata": {},
     "output_type": "execute_result"
    }
   ],
   "source": [
    "X = pd.merge(X, items.drop('item_name', axis = 1), on=['item_id'], how='left')\n",
    "X.head()"
   ]
  },
  {
   "cell_type": "markdown",
   "metadata": {},
   "source": [
    "#### Lag features"
   ]
  },
  {
   "cell_type": "code",
   "execution_count": 142,
   "metadata": {},
   "outputs": [],
   "source": [
    "groupcollist = ['item_id','shop_id','item_category_id']\n",
    "\n",
    "aggregationlist = [('item_price',np.mean,'avg'),('item_cnt_month',np.sum,'sum'),('item_cnt_month',np.mean,'avg')]\n",
    "\n",
    "for type_id in groupcollist:\n",
    "    for column_id,aggregator,aggtype in aggregationlist:\n",
    "        mean_df = X.groupby([type_id,'date_block_num']).aggregate(aggregator).reset_index()[[column_id,type_id,'date_block_num']]\n",
    "        mean_df.columns = [type_id+'_'+aggtype+'_'+column_id,type_id,'date_block_num']\n",
    "        X = pd.merge(X,mean_df,on=['date_block_num',type_id],how='left')"
   ]
  },
  {
   "cell_type": "code",
   "execution_count": 143,
   "metadata": {},
   "outputs": [
    {
     "data": {
      "text/html": [
       "<div>\n",
       "<style scoped>\n",
       "    .dataframe tbody tr th:only-of-type {\n",
       "        vertical-align: middle;\n",
       "    }\n",
       "\n",
       "    .dataframe tbody tr th {\n",
       "        vertical-align: top;\n",
       "    }\n",
       "\n",
       "    .dataframe thead th {\n",
       "        text-align: right;\n",
       "    }\n",
       "</style>\n",
       "<table border=\"1\" class=\"dataframe\">\n",
       "  <thead>\n",
       "    <tr style=\"text-align: right;\">\n",
       "      <th></th>\n",
       "      <th>shop_id</th>\n",
       "      <th>item_id</th>\n",
       "      <th>date_block_num</th>\n",
       "      <th>item_cnt_month</th>\n",
       "      <th>item_price</th>\n",
       "      <th>item_category_id</th>\n",
       "      <th>item_id_avg_item_price</th>\n",
       "      <th>item_id_sum_item_cnt_month</th>\n",
       "      <th>item_id_avg_item_cnt_month</th>\n",
       "      <th>shop_id_avg_item_price</th>\n",
       "      <th>shop_id_sum_item_cnt_month</th>\n",
       "      <th>shop_id_avg_item_cnt_month</th>\n",
       "      <th>item_category_id_avg_item_price</th>\n",
       "      <th>item_category_id_sum_item_cnt_month</th>\n",
       "      <th>item_category_id_avg_item_cnt_month</th>\n",
       "    </tr>\n",
       "  </thead>\n",
       "  <tbody>\n",
       "    <tr>\n",
       "      <th>0</th>\n",
       "      <td>59</td>\n",
       "      <td>22154</td>\n",
       "      <td>0</td>\n",
       "      <td>1.0</td>\n",
       "      <td>999.0</td>\n",
       "      <td>37</td>\n",
       "      <td>363.272727</td>\n",
       "      <td>16.0</td>\n",
       "      <td>0.484848</td>\n",
       "      <td>143.09915</td>\n",
       "      <td>452.0</td>\n",
       "      <td>0.492912</td>\n",
       "      <td>127.689436</td>\n",
       "      <td>1022.0</td>\n",
       "      <td>0.412929</td>\n",
       "    </tr>\n",
       "    <tr>\n",
       "      <th>1</th>\n",
       "      <td>59</td>\n",
       "      <td>2574</td>\n",
       "      <td>0</td>\n",
       "      <td>2.0</td>\n",
       "      <td>399.0</td>\n",
       "      <td>55</td>\n",
       "      <td>277.846061</td>\n",
       "      <td>84.0</td>\n",
       "      <td>2.545455</td>\n",
       "      <td>143.09915</td>\n",
       "      <td>452.0</td>\n",
       "      <td>0.492912</td>\n",
       "      <td>60.580583</td>\n",
       "      <td>3240.0</td>\n",
       "      <td>0.370497</td>\n",
       "    </tr>\n",
       "    <tr>\n",
       "      <th>2</th>\n",
       "      <td>59</td>\n",
       "      <td>2607</td>\n",
       "      <td>0</td>\n",
       "      <td>0.0</td>\n",
       "      <td>0.0</td>\n",
       "      <td>55</td>\n",
       "      <td>109.909091</td>\n",
       "      <td>18.0</td>\n",
       "      <td>0.545455</td>\n",
       "      <td>143.09915</td>\n",
       "      <td>452.0</td>\n",
       "      <td>0.492912</td>\n",
       "      <td>60.580583</td>\n",
       "      <td>3240.0</td>\n",
       "      <td>0.370497</td>\n",
       "    </tr>\n",
       "    <tr>\n",
       "      <th>3</th>\n",
       "      <td>59</td>\n",
       "      <td>2614</td>\n",
       "      <td>0</td>\n",
       "      <td>0.0</td>\n",
       "      <td>0.0</td>\n",
       "      <td>55</td>\n",
       "      <td>117.787879</td>\n",
       "      <td>16.0</td>\n",
       "      <td>0.484848</td>\n",
       "      <td>143.09915</td>\n",
       "      <td>452.0</td>\n",
       "      <td>0.492912</td>\n",
       "      <td>60.580583</td>\n",
       "      <td>3240.0</td>\n",
       "      <td>0.370497</td>\n",
       "    </tr>\n",
       "    <tr>\n",
       "      <th>4</th>\n",
       "      <td>59</td>\n",
       "      <td>2808</td>\n",
       "      <td>0</td>\n",
       "      <td>15.0</td>\n",
       "      <td>999.0</td>\n",
       "      <td>30</td>\n",
       "      <td>987.029809</td>\n",
       "      <td>689.0</td>\n",
       "      <td>20.878788</td>\n",
       "      <td>143.09915</td>\n",
       "      <td>452.0</td>\n",
       "      <td>0.492912</td>\n",
       "      <td>415.672427</td>\n",
       "      <td>3771.0</td>\n",
       "      <td>5.713636</td>\n",
       "    </tr>\n",
       "  </tbody>\n",
       "</table>\n",
       "</div>"
      ],
      "text/plain": [
       "   shop_id  item_id  date_block_num  item_cnt_month  item_price  \\\n",
       "0       59    22154               0             1.0       999.0   \n",
       "1       59     2574               0             2.0       399.0   \n",
       "2       59     2607               0             0.0         0.0   \n",
       "3       59     2614               0             0.0         0.0   \n",
       "4       59     2808               0            15.0       999.0   \n",
       "\n",
       "   item_category_id  item_id_avg_item_price  item_id_sum_item_cnt_month  \\\n",
       "0                37              363.272727                        16.0   \n",
       "1                55              277.846061                        84.0   \n",
       "2                55              109.909091                        18.0   \n",
       "3                55              117.787879                        16.0   \n",
       "4                30              987.029809                       689.0   \n",
       "\n",
       "   item_id_avg_item_cnt_month  shop_id_avg_item_price  \\\n",
       "0                    0.484848               143.09915   \n",
       "1                    2.545455               143.09915   \n",
       "2                    0.545455               143.09915   \n",
       "3                    0.484848               143.09915   \n",
       "4                   20.878788               143.09915   \n",
       "\n",
       "   shop_id_sum_item_cnt_month  shop_id_avg_item_cnt_month  \\\n",
       "0                       452.0                    0.492912   \n",
       "1                       452.0                    0.492912   \n",
       "2                       452.0                    0.492912   \n",
       "3                       452.0                    0.492912   \n",
       "4                       452.0                    0.492912   \n",
       "\n",
       "   item_category_id_avg_item_price  item_category_id_sum_item_cnt_month  \\\n",
       "0                       127.689436                               1022.0   \n",
       "1                        60.580583                               3240.0   \n",
       "2                        60.580583                               3240.0   \n",
       "3                        60.580583                               3240.0   \n",
       "4                       415.672427                               3771.0   \n",
       "\n",
       "   item_category_id_avg_item_cnt_month  \n",
       "0                             0.412929  \n",
       "1                             0.370497  \n",
       "2                             0.370497  \n",
       "3                             0.370497  \n",
       "4                             5.713636  "
      ]
     },
     "execution_count": 143,
     "metadata": {},
     "output_type": "execute_result"
    }
   ],
   "source": [
    "X.head()"
   ]
  },
  {
   "cell_type": "code",
   "execution_count": 144,
   "metadata": {},
   "outputs": [],
   "source": [
    "lag_variables  = ['item_id_avg_item_price','item_id_sum_item_cnt_month','item_id_avg_item_cnt_month','shop_id_avg_item_price','shop_id_sum_item_cnt_month','shop_id_avg_item_cnt_month','item_category_id_avg_item_price','item_category_id_sum_item_cnt_month','item_category_id_avg_item_cnt_month','item_cnt_month']\n",
    "lags = [1 ,2 ,3 ,4, 5, 12]\n",
    "X_means = X.copy()\n",
    "for lag in lags:\n",
    "    X_new_df = X.copy()\n",
    "    X_new_df.date_block_num+=lag\n",
    "    X_new_df = X_new_df[['date_block_num','shop_id','item_id']+lag_variables]\n",
    "    X_new_df.columns = ['date_block_num','shop_id','item_id']+ [lag_feat+'_lag_'+str(lag) for lag_feat in lag_variables]\n",
    "    X_means = pd.merge(X_means, X_new_df,on=['date_block_num','shop_id','item_id'] ,how='left')"
   ]
  },
  {
   "cell_type": "code",
   "execution_count": 145,
   "metadata": {},
   "outputs": [],
   "source": [
    "for feat in X_means.columns:\n",
    "    if 'item_cnt' in feat:\n",
    "        X_means[feat]=X_means[feat].fillna(0)\n",
    "    elif 'item_price' in feat:\n",
    "        X_means[feat]=X_means[feat].fillna(X_means[feat].median())"
   ]
  },
  {
   "cell_type": "code",
   "execution_count": 146,
   "metadata": {},
   "outputs": [
    {
     "data": {
      "text/plain": [
       "['shop_id',\n",
       " 'item_id',\n",
       " 'date_block_num',\n",
       " 'item_cnt_month',\n",
       " 'item_price',\n",
       " 'item_category_id',\n",
       " 'item_id_avg_item_price',\n",
       " 'item_id_sum_item_cnt_month',\n",
       " 'item_id_avg_item_cnt_month',\n",
       " 'shop_id_avg_item_price',\n",
       " 'shop_id_sum_item_cnt_month',\n",
       " 'shop_id_avg_item_cnt_month',\n",
       " 'item_category_id_avg_item_price',\n",
       " 'item_category_id_sum_item_cnt_month',\n",
       " 'item_category_id_avg_item_cnt_month',\n",
       " 'item_id_avg_item_price_lag_1',\n",
       " 'item_id_sum_item_cnt_month_lag_1',\n",
       " 'item_id_avg_item_cnt_month_lag_1',\n",
       " 'shop_id_avg_item_price_lag_1',\n",
       " 'shop_id_sum_item_cnt_month_lag_1',\n",
       " 'shop_id_avg_item_cnt_month_lag_1',\n",
       " 'item_category_id_avg_item_price_lag_1',\n",
       " 'item_category_id_sum_item_cnt_month_lag_1',\n",
       " 'item_category_id_avg_item_cnt_month_lag_1',\n",
       " 'item_cnt_month_lag_1',\n",
       " 'item_id_avg_item_price_lag_2',\n",
       " 'item_id_sum_item_cnt_month_lag_2',\n",
       " 'item_id_avg_item_cnt_month_lag_2',\n",
       " 'shop_id_avg_item_price_lag_2',\n",
       " 'shop_id_sum_item_cnt_month_lag_2',\n",
       " 'shop_id_avg_item_cnt_month_lag_2',\n",
       " 'item_category_id_avg_item_price_lag_2',\n",
       " 'item_category_id_sum_item_cnt_month_lag_2',\n",
       " 'item_category_id_avg_item_cnt_month_lag_2',\n",
       " 'item_cnt_month_lag_2',\n",
       " 'item_id_avg_item_price_lag_3',\n",
       " 'item_id_sum_item_cnt_month_lag_3',\n",
       " 'item_id_avg_item_cnt_month_lag_3',\n",
       " 'shop_id_avg_item_price_lag_3',\n",
       " 'shop_id_sum_item_cnt_month_lag_3',\n",
       " 'shop_id_avg_item_cnt_month_lag_3',\n",
       " 'item_category_id_avg_item_price_lag_3',\n",
       " 'item_category_id_sum_item_cnt_month_lag_3',\n",
       " 'item_category_id_avg_item_cnt_month_lag_3',\n",
       " 'item_cnt_month_lag_3',\n",
       " 'item_id_avg_item_price_lag_4',\n",
       " 'item_id_sum_item_cnt_month_lag_4',\n",
       " 'item_id_avg_item_cnt_month_lag_4',\n",
       " 'shop_id_avg_item_price_lag_4',\n",
       " 'shop_id_sum_item_cnt_month_lag_4',\n",
       " 'shop_id_avg_item_cnt_month_lag_4',\n",
       " 'item_category_id_avg_item_price_lag_4',\n",
       " 'item_category_id_sum_item_cnt_month_lag_4',\n",
       " 'item_category_id_avg_item_cnt_month_lag_4',\n",
       " 'item_cnt_month_lag_4',\n",
       " 'item_id_avg_item_price_lag_5',\n",
       " 'item_id_sum_item_cnt_month_lag_5',\n",
       " 'item_id_avg_item_cnt_month_lag_5',\n",
       " 'shop_id_avg_item_price_lag_5',\n",
       " 'shop_id_sum_item_cnt_month_lag_5',\n",
       " 'shop_id_avg_item_cnt_month_lag_5',\n",
       " 'item_category_id_avg_item_price_lag_5',\n",
       " 'item_category_id_sum_item_cnt_month_lag_5',\n",
       " 'item_category_id_avg_item_cnt_month_lag_5',\n",
       " 'item_cnt_month_lag_5',\n",
       " 'item_id_avg_item_price_lag_12',\n",
       " 'item_id_sum_item_cnt_month_lag_12',\n",
       " 'item_id_avg_item_cnt_month_lag_12',\n",
       " 'shop_id_avg_item_price_lag_12',\n",
       " 'shop_id_sum_item_cnt_month_lag_12',\n",
       " 'shop_id_avg_item_cnt_month_lag_12',\n",
       " 'item_category_id_avg_item_price_lag_12',\n",
       " 'item_category_id_sum_item_cnt_month_lag_12',\n",
       " 'item_category_id_avg_item_cnt_month_lag_12',\n",
       " 'item_cnt_month_lag_12']"
      ]
     },
     "execution_count": 146,
     "metadata": {},
     "output_type": "execute_result"
    }
   ],
   "source": [
    "list(X_means.columns)"
   ]
  },
  {
   "cell_type": "markdown",
   "metadata": {},
   "source": [
    "We're going to drop the non-lagged versions of our features to avoid data leakage. We're also going to remove the *item_price* feature as I didn't find an appropriate procedure to fill the NA values, but it was definitely an important feature on some of the models I ran so this would be one way of improvement."
   ]
  },
  {
   "cell_type": "code",
   "execution_count": 147,
   "metadata": {},
   "outputs": [],
   "source": [
    "cols_to_drop = lag_variables[:-1] + ['item_price']\n",
    "\n",
    "for col in cols_to_drop:\n",
    "    del X_means[col]"
   ]
  },
  {
   "cell_type": "code",
   "execution_count": 148,
   "metadata": {},
   "outputs": [],
   "source": [
    "# Since we have lagged features that go up to 12 months, we're going to skip the first 12 months of our data.\n",
    "X_means = X_means[X_means['date_block_num']>11]"
   ]
  },
  {
   "cell_type": "markdown",
   "metadata": {},
   "source": [
    "#### Month feature  \n",
    "\n",
    "One thing I did to make the _month_ feature a bit more expressive is to map it to a circle and then compute the sin & cos for each value. It's a process that works great with **cyclical features** such as the month, it allows for the model to understand that January comes after December."
   ]
  },
  {
   "cell_type": "code",
   "execution_count": 151,
   "metadata": {},
   "outputs": [
    {
     "data": {
      "text/html": [
       "<div>\n",
       "<style scoped>\n",
       "    .dataframe tbody tr th:only-of-type {\n",
       "        vertical-align: middle;\n",
       "    }\n",
       "\n",
       "    .dataframe tbody tr th {\n",
       "        vertical-align: top;\n",
       "    }\n",
       "\n",
       "    .dataframe thead th {\n",
       "        text-align: right;\n",
       "    }\n",
       "</style>\n",
       "<table border=\"1\" class=\"dataframe\">\n",
       "  <thead>\n",
       "    <tr style=\"text-align: right;\">\n",
       "      <th></th>\n",
       "      <th>shop_id</th>\n",
       "      <th>item_id</th>\n",
       "      <th>date_block_num</th>\n",
       "      <th>item_cnt_month</th>\n",
       "      <th>item_category_id</th>\n",
       "      <th>item_id_avg_item_price_lag_1</th>\n",
       "      <th>item_id_sum_item_cnt_month_lag_1</th>\n",
       "      <th>item_id_avg_item_cnt_month_lag_1</th>\n",
       "      <th>shop_id_avg_item_price_lag_1</th>\n",
       "      <th>shop_id_sum_item_cnt_month_lag_1</th>\n",
       "      <th>...</th>\n",
       "      <th>shop_id_avg_item_price_lag_12</th>\n",
       "      <th>shop_id_sum_item_cnt_month_lag_12</th>\n",
       "      <th>shop_id_avg_item_cnt_month_lag_12</th>\n",
       "      <th>item_category_id_avg_item_price_lag_12</th>\n",
       "      <th>item_category_id_sum_item_cnt_month_lag_12</th>\n",
       "      <th>item_category_id_avg_item_cnt_month_lag_12</th>\n",
       "      <th>item_cnt_month_lag_12</th>\n",
       "      <th>year</th>\n",
       "      <th>mnth_sin</th>\n",
       "      <th>mnth_cos</th>\n",
       "    </tr>\n",
       "  </thead>\n",
       "  <tbody>\n",
       "    <tr>\n",
       "      <th>506772</th>\n",
       "      <td>55</td>\n",
       "      <td>492</td>\n",
       "      <td>12</td>\n",
       "      <td>123.0</td>\n",
       "      <td>76</td>\n",
       "      <td>15.735027</td>\n",
       "      <td>92.0</td>\n",
       "      <td>2.421053</td>\n",
       "      <td>22.573639</td>\n",
       "      <td>726.0</td>\n",
       "      <td>...</td>\n",
       "      <td>174.628638</td>\n",
       "      <td>0.0</td>\n",
       "      <td>0.0</td>\n",
       "      <td>73.03532</td>\n",
       "      <td>0.0</td>\n",
       "      <td>0.0</td>\n",
       "      <td>0.0</td>\n",
       "      <td>1.0</td>\n",
       "      <td>0.0</td>\n",
       "      <td>1.0</td>\n",
       "    </tr>\n",
       "    <tr>\n",
       "      <th>506773</th>\n",
       "      <td>55</td>\n",
       "      <td>504</td>\n",
       "      <td>12</td>\n",
       "      <td>7.0</td>\n",
       "      <td>31</td>\n",
       "      <td>4.605263</td>\n",
       "      <td>1.0</td>\n",
       "      <td>0.026316</td>\n",
       "      <td>22.573639</td>\n",
       "      <td>726.0</td>\n",
       "      <td>...</td>\n",
       "      <td>174.628638</td>\n",
       "      <td>0.0</td>\n",
       "      <td>0.0</td>\n",
       "      <td>73.03532</td>\n",
       "      <td>0.0</td>\n",
       "      <td>0.0</td>\n",
       "      <td>0.0</td>\n",
       "      <td>1.0</td>\n",
       "      <td>0.0</td>\n",
       "      <td>1.0</td>\n",
       "    </tr>\n",
       "    <tr>\n",
       "      <th>506774</th>\n",
       "      <td>55</td>\n",
       "      <td>508</td>\n",
       "      <td>12</td>\n",
       "      <td>3.0</td>\n",
       "      <td>31</td>\n",
       "      <td>2.500000</td>\n",
       "      <td>1.0</td>\n",
       "      <td>0.026316</td>\n",
       "      <td>22.573639</td>\n",
       "      <td>726.0</td>\n",
       "      <td>...</td>\n",
       "      <td>174.628638</td>\n",
       "      <td>0.0</td>\n",
       "      <td>0.0</td>\n",
       "      <td>73.03532</td>\n",
       "      <td>0.0</td>\n",
       "      <td>0.0</td>\n",
       "      <td>0.0</td>\n",
       "      <td>1.0</td>\n",
       "      <td>0.0</td>\n",
       "      <td>1.0</td>\n",
       "    </tr>\n",
       "    <tr>\n",
       "      <th>506775</th>\n",
       "      <td>55</td>\n",
       "      <td>515</td>\n",
       "      <td>12</td>\n",
       "      <td>6.0</td>\n",
       "      <td>31</td>\n",
       "      <td>3.263158</td>\n",
       "      <td>4.0</td>\n",
       "      <td>0.105263</td>\n",
       "      <td>22.573639</td>\n",
       "      <td>726.0</td>\n",
       "      <td>...</td>\n",
       "      <td>174.628638</td>\n",
       "      <td>0.0</td>\n",
       "      <td>0.0</td>\n",
       "      <td>73.03532</td>\n",
       "      <td>0.0</td>\n",
       "      <td>0.0</td>\n",
       "      <td>0.0</td>\n",
       "      <td>1.0</td>\n",
       "      <td>0.0</td>\n",
       "      <td>1.0</td>\n",
       "    </tr>\n",
       "    <tr>\n",
       "      <th>506776</th>\n",
       "      <td>55</td>\n",
       "      <td>539</td>\n",
       "      <td>12</td>\n",
       "      <td>2.0</td>\n",
       "      <td>78</td>\n",
       "      <td>4.526316</td>\n",
       "      <td>1.0</td>\n",
       "      <td>0.026316</td>\n",
       "      <td>22.573639</td>\n",
       "      <td>726.0</td>\n",
       "      <td>...</td>\n",
       "      <td>174.628638</td>\n",
       "      <td>0.0</td>\n",
       "      <td>0.0</td>\n",
       "      <td>73.03532</td>\n",
       "      <td>0.0</td>\n",
       "      <td>0.0</td>\n",
       "      <td>0.0</td>\n",
       "      <td>1.0</td>\n",
       "      <td>0.0</td>\n",
       "      <td>1.0</td>\n",
       "    </tr>\n",
       "  </tbody>\n",
       "</table>\n",
       "<p>5 rows × 68 columns</p>\n",
       "</div>"
      ],
      "text/plain": [
       "        shop_id  item_id  date_block_num  item_cnt_month  item_category_id  \\\n",
       "506772       55      492              12           123.0                76   \n",
       "506773       55      504              12             7.0                31   \n",
       "506774       55      508              12             3.0                31   \n",
       "506775       55      515              12             6.0                31   \n",
       "506776       55      539              12             2.0                78   \n",
       "\n",
       "        item_id_avg_item_price_lag_1  item_id_sum_item_cnt_month_lag_1  \\\n",
       "506772                     15.735027                              92.0   \n",
       "506773                      4.605263                               1.0   \n",
       "506774                      2.500000                               1.0   \n",
       "506775                      3.263158                               4.0   \n",
       "506776                      4.526316                               1.0   \n",
       "\n",
       "        item_id_avg_item_cnt_month_lag_1  shop_id_avg_item_price_lag_1  \\\n",
       "506772                          2.421053                     22.573639   \n",
       "506773                          0.026316                     22.573639   \n",
       "506774                          0.026316                     22.573639   \n",
       "506775                          0.105263                     22.573639   \n",
       "506776                          0.026316                     22.573639   \n",
       "\n",
       "        shop_id_sum_item_cnt_month_lag_1  ...  shop_id_avg_item_price_lag_12  \\\n",
       "506772                             726.0  ...                     174.628638   \n",
       "506773                             726.0  ...                     174.628638   \n",
       "506774                             726.0  ...                     174.628638   \n",
       "506775                             726.0  ...                     174.628638   \n",
       "506776                             726.0  ...                     174.628638   \n",
       "\n",
       "        shop_id_sum_item_cnt_month_lag_12  shop_id_avg_item_cnt_month_lag_12  \\\n",
       "506772                                0.0                                0.0   \n",
       "506773                                0.0                                0.0   \n",
       "506774                                0.0                                0.0   \n",
       "506775                                0.0                                0.0   \n",
       "506776                                0.0                                0.0   \n",
       "\n",
       "        item_category_id_avg_item_price_lag_12  \\\n",
       "506772                                73.03532   \n",
       "506773                                73.03532   \n",
       "506774                                73.03532   \n",
       "506775                                73.03532   \n",
       "506776                                73.03532   \n",
       "\n",
       "        item_category_id_sum_item_cnt_month_lag_12  \\\n",
       "506772                                         0.0   \n",
       "506773                                         0.0   \n",
       "506774                                         0.0   \n",
       "506775                                         0.0   \n",
       "506776                                         0.0   \n",
       "\n",
       "        item_category_id_avg_item_cnt_month_lag_12  item_cnt_month_lag_12  \\\n",
       "506772                                         0.0                    0.0   \n",
       "506773                                         0.0                    0.0   \n",
       "506774                                         0.0                    0.0   \n",
       "506775                                         0.0                    0.0   \n",
       "506776                                         0.0                    0.0   \n",
       "\n",
       "        year  mnth_sin  mnth_cos  \n",
       "506772   1.0       0.0       1.0  \n",
       "506773   1.0       0.0       1.0  \n",
       "506774   1.0       0.0       1.0  \n",
       "506775   1.0       0.0       1.0  \n",
       "506776   1.0       0.0       1.0  \n",
       "\n",
       "[5 rows x 68 columns]"
      ]
     },
     "execution_count": 151,
     "metadata": {},
     "output_type": "execute_result"
    }
   ],
   "source": [
    "X_means['month'] = X_means['date_block_num'] % 12\n",
    "X_means.loc[(X_means['date_block_num'] < 12), 'year'] = 0\n",
    "X_means.loc[(X_means['date_block_num'] < 24) & (X['date_block_num'] > 11), 'year'] = 1\n",
    "X_means.loc[(X_means['date_block_num'] > 23), 'year'] = 2\n",
    "X_means['mnth_sin'] = np.sin((X_means.month)*(2.*np.pi/12))\n",
    "X_means['mnth_cos'] = np.cos((X_means.month)*(2.*np.pi/12))\n",
    "X_means.drop('month', axis=1, inplace=True)\n",
    "X_means.head()"
   ]
  },
  {
   "cell_type": "markdown",
   "metadata": {},
   "source": [
    "## Model"
   ]
  },
  {
   "cell_type": "markdown",
   "metadata": {},
   "source": [
    "### Data Split\n",
    "\n",
    "Since we're facing a time-series problem and the challenge is to predict only the **next month** I only kept the last month as validation data, the rest was used for training."
   ]
  },
  {
   "cell_type": "code",
   "execution_count": 169,
   "metadata": {},
   "outputs": [],
   "source": [
    "X_train = X_means[X_means.date_block_num < 33].drop(['item_cnt_month', 'date_block_num'], axis=1).values\n",
    "y_train = X_means[X_means.date_block_num < 33].loc[:, 'item_cnt_month'].clip(0,20)\n",
    "\n",
    "X_test = X_means[X_means.date_block_num == 33].drop(['item_cnt_month', 'date_block_num'], axis=1).values\n",
    "y_test = X_means[X_means.date_block_num == 33].loc[:, \"item_cnt_month\"].clip(0,20)"
   ]
  },
  {
   "cell_type": "code",
   "execution_count": 170,
   "metadata": {},
   "outputs": [
    {
     "name": "stdout",
     "output_type": "stream",
     "text": [
      "(2058656, 66) (2058656,) (166110, 66) (166110,)\n"
     ]
    }
   ],
   "source": [
    "print(X_train.shape, y_train.shape, X_test.shape, y_test.shape)"
   ]
  },
  {
   "cell_type": "markdown",
   "metadata": {},
   "source": [
    "Even with all the processing we did (selecting only what was in the test, grouping the data, removing the first year etc...) we still end up with a training set with **2M+** rows."
   ]
  },
  {
   "cell_type": "markdown",
   "metadata": {},
   "source": [
    "### Training"
   ]
  },
  {
   "cell_type": "code",
   "execution_count": 172,
   "metadata": {},
   "outputs": [],
   "source": [
    "import xgboost as xgb\n",
    "xgb = xgb.XGBRegressor(objective='reg:squarederror',\n",
    "    n_estimators=1000,\n",
    "    max_depth=8,\n",
    "    reg_alpha=0.1,\n",
    "    reg_lambda=2,\n",
    "    eta=0.1,\n",
    "    tree_method='gpu_hist',\n",
    "    seed=32)"
   ]
  },
  {
   "cell_type": "code",
   "execution_count": 173,
   "metadata": {},
   "outputs": [
    {
     "data": {
      "text/plain": [
       "XGBRegressor(base_score=0.5, booster='gbtree', colsample_bylevel=1,\n",
       "             colsample_bynode=1, colsample_bytree=1, eta=0.1, gamma=0, gpu_id=0,\n",
       "             importance_type='gain', interaction_constraints='',\n",
       "             learning_rate=0.100000001, max_delta_step=0, max_depth=8,\n",
       "             min_child_weight=1, missing=nan,\n",
       "             monotone_constraints='(0,0,0,0,0,0,0,0,0,0,0,0,0,0,0,0,0,0,0,0,0,0,0,0,0,0,0,0,0,0,0,0,0,0,0,0,0,0,0,0,0,0,0,0,0,0,0,0,0,0,0,0,0,0,0,0,0,0,0,0,0,0,0,0,0,0)',\n",
       "             n_estimators=1000, n_jobs=0, num_parallel_tree=1, random_state=32,\n",
       "             reg_alpha=0.1, reg_lambda=2, scale_pos_weight=1, seed=32,\n",
       "             subsample=1, tree_method='gpu_hist', validate_parameters=1,\n",
       "             verbosity=None)"
      ]
     },
     "execution_count": 173,
     "metadata": {},
     "output_type": "execute_result"
    }
   ],
   "source": [
    "xgb.fit(X_train,y_train,eval_metric=\"rmse\",\n",
    "        eval_set=[(X_train, y_train) \n",
    "                  ,(X_test, y_test)\n",
    "                 ],\n",
    "        verbose=False,\n",
    "        early_stopping_rounds = 10)"
   ]
  },
  {
   "cell_type": "code",
   "execution_count": 174,
   "metadata": {},
   "outputs": [
    {
     "name": "stdout",
     "output_type": "stream",
     "text": [
      "RMSE =  0.9527644231045822\n"
     ]
    }
   ],
   "source": [
    "from sklearn.metrics import mean_squared_error\n",
    "preds = xgb.predict(X_test)\n",
    "print(\"RMSE = \", mean_squared_error(y_test, preds, squared = False))"
   ]
  },
  {
   "cell_type": "code",
   "execution_count": 185,
   "metadata": {},
   "outputs": [],
   "source": [
    "## Saving the model\n",
    "# import pickle\n",
    "# filename = 'finalized_model.sav'\n",
    "# pickle.dump(xgb, open(filename, 'wb'))"
   ]
  },
  {
   "cell_type": "markdown",
   "metadata": {},
   "source": [
    "### Feature Importance"
   ]
  },
  {
   "cell_type": "code",
   "execution_count": 176,
   "metadata": {},
   "outputs": [
    {
     "data": {
      "image/png": "[encoded data removed]",
      "text/plain": [
       "<Figure size 864x576 with 1 Axes>"
      ]
     },
     "metadata": {
      "needs_background": "light"
     },
     "output_type": "display_data"
    }
   ],
   "source": [
    "coeff_df = pd.DataFrame(xgb.feature_importances_,list_col,columns=['Coefficient'])\n",
    "\n",
    "fig, ax = plt.subplots(1,1,figsize=(12,8))\n",
    "coeff_df.sort_values(by='Coefficient',ascending=False).head(20).plot(kind='bar',ax=ax)\n",
    "plt.xlabel('Features')\n",
    "plt.title('Top 20 Features');"
   ]
  },
  {
   "cell_type": "markdown",
   "metadata": {},
   "source": [
    "## Applying to test set"
   ]
  },
  {
   "cell_type": "code",
   "execution_count": 175,
   "metadata": {},
   "outputs": [
    {
     "data": {
      "text/plain": [
       "Index(['shop_id', 'item_id', 'item_category_id',\n",
       "       'item_id_avg_item_price_lag_1', 'item_id_sum_item_cnt_month_lag_1',\n",
       "       'item_id_avg_item_cnt_month_lag_1', 'shop_id_avg_item_price_lag_1',\n",
       "       'shop_id_sum_item_cnt_month_lag_1', 'shop_id_avg_item_cnt_month_lag_1',\n",
       "       'item_category_id_avg_item_price_lag_1',\n",
       "       'item_category_id_sum_item_cnt_month_lag_1',\n",
       "       'item_category_id_avg_item_cnt_month_lag_1', 'item_cnt_month_lag_1',\n",
       "       'item_id_avg_item_price_lag_2', 'item_id_sum_item_cnt_month_lag_2',\n",
       "       'item_id_avg_item_cnt_month_lag_2', 'shop_id_avg_item_price_lag_2',\n",
       "       'shop_id_sum_item_cnt_month_lag_2', 'shop_id_avg_item_cnt_month_lag_2',\n",
       "       'item_category_id_avg_item_price_lag_2',\n",
       "       'item_category_id_sum_item_cnt_month_lag_2',\n",
       "       'item_category_id_avg_item_cnt_month_lag_2', 'item_cnt_month_lag_2',\n",
       "       'item_id_avg_item_price_lag_3', 'item_id_sum_item_cnt_month_lag_3',\n",
       "       'item_id_avg_item_cnt_month_lag_3', 'shop_id_avg_item_price_lag_3',\n",
       "       'shop_id_sum_item_cnt_month_lag_3', 'shop_id_avg_item_cnt_month_lag_3',\n",
       "       'item_category_id_avg_item_price_lag_3',\n",
       "       'item_category_id_sum_item_cnt_month_lag_3',\n",
       "       'item_category_id_avg_item_cnt_month_lag_3', 'item_cnt_month_lag_3',\n",
       "       'item_id_avg_item_price_lag_4', 'item_id_sum_item_cnt_month_lag_4',\n",
       "       'item_id_avg_item_cnt_month_lag_4', 'shop_id_avg_item_price_lag_4',\n",
       "       'shop_id_sum_item_cnt_month_lag_4', 'shop_id_avg_item_cnt_month_lag_4',\n",
       "       'item_category_id_avg_item_price_lag_4',\n",
       "       'item_category_id_sum_item_cnt_month_lag_4',\n",
       "       'item_category_id_avg_item_cnt_month_lag_4', 'item_cnt_month_lag_4',\n",
       "       'item_id_avg_item_price_lag_5', 'item_id_sum_item_cnt_month_lag_5',\n",
       "       'item_id_avg_item_cnt_month_lag_5', 'shop_id_avg_item_price_lag_5',\n",
       "       'shop_id_sum_item_cnt_month_lag_5', 'shop_id_avg_item_cnt_month_lag_5',\n",
       "       'item_category_id_avg_item_price_lag_5',\n",
       "       'item_category_id_sum_item_cnt_month_lag_5',\n",
       "       'item_category_id_avg_item_cnt_month_lag_5', 'item_cnt_month_lag_5',\n",
       "       'item_id_avg_item_price_lag_12', 'item_id_sum_item_cnt_month_lag_12',\n",
       "       'item_id_avg_item_cnt_month_lag_12', 'shop_id_avg_item_price_lag_12',\n",
       "       'shop_id_sum_item_cnt_month_lag_12',\n",
       "       'shop_id_avg_item_cnt_month_lag_12',\n",
       "       'item_category_id_avg_item_price_lag_12',\n",
       "       'item_category_id_sum_item_cnt_month_lag_12',\n",
       "       'item_category_id_avg_item_cnt_month_lag_12', 'item_cnt_month_lag_12',\n",
       "       'year', 'mnth_sin', 'mnth_cos'],\n",
       "      dtype='object')"
      ]
     },
     "execution_count": 175,
     "metadata": {},
     "output_type": "execute_result"
    }
   ],
   "source": [
    "list_col = X_means.drop(['item_cnt_month', 'date_block_num'], axis=1).columns\n",
    "list_col"
   ]
  },
  {
   "cell_type": "code",
   "execution_count": 177,
   "metadata": {},
   "outputs": [
    {
     "data": {
      "text/html": [
       "<div>\n",
       "<style scoped>\n",
       "    .dataframe tbody tr th:only-of-type {\n",
       "        vertical-align: middle;\n",
       "    }\n",
       "\n",
       "    .dataframe tbody tr th {\n",
       "        vertical-align: top;\n",
       "    }\n",
       "\n",
       "    .dataframe thead th {\n",
       "        text-align: right;\n",
       "    }\n",
       "</style>\n",
       "<table border=\"1\" class=\"dataframe\">\n",
       "  <thead>\n",
       "    <tr style=\"text-align: right;\">\n",
       "      <th></th>\n",
       "      <th>ID</th>\n",
       "      <th>shop_id</th>\n",
       "      <th>item_id</th>\n",
       "    </tr>\n",
       "  </thead>\n",
       "  <tbody>\n",
       "    <tr>\n",
       "      <th>0</th>\n",
       "      <td>0</td>\n",
       "      <td>5</td>\n",
       "      <td>5037</td>\n",
       "    </tr>\n",
       "    <tr>\n",
       "      <th>1</th>\n",
       "      <td>1</td>\n",
       "      <td>5</td>\n",
       "      <td>5320</td>\n",
       "    </tr>\n",
       "    <tr>\n",
       "      <th>2</th>\n",
       "      <td>2</td>\n",
       "      <td>5</td>\n",
       "      <td>5233</td>\n",
       "    </tr>\n",
       "    <tr>\n",
       "      <th>3</th>\n",
       "      <td>3</td>\n",
       "      <td>5</td>\n",
       "      <td>5232</td>\n",
       "    </tr>\n",
       "    <tr>\n",
       "      <th>4</th>\n",
       "      <td>4</td>\n",
       "      <td>5</td>\n",
       "      <td>5268</td>\n",
       "    </tr>\n",
       "  </tbody>\n",
       "</table>\n",
       "</div>"
      ],
      "text/plain": [
       "   ID  shop_id  item_id\n",
       "0   0        5     5037\n",
       "1   1        5     5320\n",
       "2   2        5     5233\n",
       "3   3        5     5232\n",
       "4   4        5     5268"
      ]
     },
     "execution_count": 177,
     "metadata": {},
     "output_type": "execute_result"
    }
   ],
   "source": [
    "test = pd.read_csv(DATA_FOLDER + 'test.csv')\n",
    "test.head()"
   ]
  },
  {
   "cell_type": "code",
   "execution_count": 178,
   "metadata": {},
   "outputs": [
    {
     "data": {
      "text/html": [
       "<div>\n",
       "<style scoped>\n",
       "    .dataframe tbody tr th:only-of-type {\n",
       "        vertical-align: middle;\n",
       "    }\n",
       "\n",
       "    .dataframe tbody tr th {\n",
       "        vertical-align: top;\n",
       "    }\n",
       "\n",
       "    .dataframe thead th {\n",
       "        text-align: right;\n",
       "    }\n",
       "</style>\n",
       "<table border=\"1\" class=\"dataframe\">\n",
       "  <thead>\n",
       "    <tr style=\"text-align: right;\">\n",
       "      <th></th>\n",
       "      <th>ID</th>\n",
       "      <th>shop_id</th>\n",
       "      <th>item_id</th>\n",
       "      <th>item_category_id</th>\n",
       "      <th>date_block_num</th>\n",
       "    </tr>\n",
       "  </thead>\n",
       "  <tbody>\n",
       "    <tr>\n",
       "      <th>0</th>\n",
       "      <td>0</td>\n",
       "      <td>5</td>\n",
       "      <td>5037</td>\n",
       "      <td>19</td>\n",
       "      <td>34</td>\n",
       "    </tr>\n",
       "    <tr>\n",
       "      <th>1</th>\n",
       "      <td>1</td>\n",
       "      <td>5</td>\n",
       "      <td>5320</td>\n",
       "      <td>55</td>\n",
       "      <td>34</td>\n",
       "    </tr>\n",
       "    <tr>\n",
       "      <th>2</th>\n",
       "      <td>2</td>\n",
       "      <td>5</td>\n",
       "      <td>5233</td>\n",
       "      <td>19</td>\n",
       "      <td>34</td>\n",
       "    </tr>\n",
       "    <tr>\n",
       "      <th>3</th>\n",
       "      <td>3</td>\n",
       "      <td>5</td>\n",
       "      <td>5232</td>\n",
       "      <td>23</td>\n",
       "      <td>34</td>\n",
       "    </tr>\n",
       "    <tr>\n",
       "      <th>4</th>\n",
       "      <td>4</td>\n",
       "      <td>5</td>\n",
       "      <td>5268</td>\n",
       "      <td>20</td>\n",
       "      <td>34</td>\n",
       "    </tr>\n",
       "  </tbody>\n",
       "</table>\n",
       "</div>"
      ],
      "text/plain": [
       "   ID  shop_id  item_id  item_category_id  date_block_num\n",
       "0   0        5     5037                19              34\n",
       "1   1        5     5320                55              34\n",
       "2   2        5     5233                19              34\n",
       "3   3        5     5232                23              34\n",
       "4   4        5     5268                20              34"
      ]
     },
     "execution_count": 178,
     "metadata": {},
     "output_type": "execute_result"
    }
   ],
   "source": [
    "test = pd.merge(test, items.drop('item_name', axis = 1), on=['item_id'], how='left')\n",
    "test['date_block_num'] = 34\n",
    "test.head()"
   ]
  },
  {
   "cell_type": "code",
   "execution_count": 179,
   "metadata": {},
   "outputs": [],
   "source": [
    "lag_variables  = ['item_id_avg_item_price','item_id_sum_item_cnt_month','item_id_avg_item_cnt_month','shop_id_avg_item_price','shop_id_sum_item_cnt_month','shop_id_avg_item_cnt_month','item_category_id_avg_item_price','item_category_id_sum_item_cnt_month','item_category_id_avg_item_cnt_month','item_cnt_month']\n",
    "lags = [1 ,2 ,3 ,4, 5, 12]\n",
    "for lag in lags:\n",
    "    X_new_df = X.copy()\n",
    "    X_new_df.date_block_num+=lag\n",
    "    # subset only the lag variables we want\n",
    "    X_new_df = X_new_df[['date_block_num','shop_id','item_id']+lag_variables]\n",
    "    X_new_df.columns = ['date_block_num','shop_id','item_id']+ [lag_feat+'_lag_'+str(lag) for lag_feat in lag_variables]\n",
    "    # join with date_block_num,shop_id and item_id\n",
    "    test = pd.merge(test, X_new_df,on=['date_block_num','shop_id','item_id'] ,how='left')"
   ]
  },
  {
   "cell_type": "code",
   "execution_count": 80,
   "metadata": {},
   "outputs": [
    {
     "data": {
      "text/plain": [
       "Index(['ID', 'shop_id', 'item_id', 'item_category_id', 'date_block_num',\n",
       "       'item_id_avg_item_price_lag_1', 'item_id_sum_item_cnt_month_lag_1',\n",
       "       'item_id_avg_item_cnt_month_lag_1', 'shop_id_avg_item_price_lag_1',\n",
       "       'shop_id_sum_item_cnt_month_lag_1', 'shop_id_avg_item_cnt_month_lag_1',\n",
       "       'item_category_id_avg_item_price_lag_1',\n",
       "       'item_category_id_sum_item_cnt_month_lag_1',\n",
       "       'item_category_id_avg_item_cnt_month_lag_1', 'item_cnt_month_lag_1',\n",
       "       'item_id_avg_item_price_lag_2', 'item_id_sum_item_cnt_month_lag_2',\n",
       "       'item_id_avg_item_cnt_month_lag_2', 'shop_id_avg_item_price_lag_2',\n",
       "       'shop_id_sum_item_cnt_month_lag_2', 'shop_id_avg_item_cnt_month_lag_2',\n",
       "       'item_category_id_avg_item_price_lag_2',\n",
       "       'item_category_id_sum_item_cnt_month_lag_2',\n",
       "       'item_category_id_avg_item_cnt_month_lag_2', 'item_cnt_month_lag_2',\n",
       "       'item_id_avg_item_price_lag_3', 'item_id_sum_item_cnt_month_lag_3',\n",
       "       'item_id_avg_item_cnt_month_lag_3', 'shop_id_avg_item_price_lag_3',\n",
       "       'shop_id_sum_item_cnt_month_lag_3', 'shop_id_avg_item_cnt_month_lag_3',\n",
       "       'item_category_id_avg_item_price_lag_3',\n",
       "       'item_category_id_sum_item_cnt_month_lag_3',\n",
       "       'item_category_id_avg_item_cnt_month_lag_3', 'item_cnt_month_lag_3',\n",
       "       'item_id_avg_item_price_lag_4', 'item_id_sum_item_cnt_month_lag_4',\n",
       "       'item_id_avg_item_cnt_month_lag_4', 'shop_id_avg_item_price_lag_4',\n",
       "       'shop_id_sum_item_cnt_month_lag_4', 'shop_id_avg_item_cnt_month_lag_4',\n",
       "       'item_category_id_avg_item_price_lag_4',\n",
       "       'item_category_id_sum_item_cnt_month_lag_4',\n",
       "       'item_category_id_avg_item_cnt_month_lag_4', 'item_cnt_month_lag_4',\n",
       "       'item_id_avg_item_price_lag_5', 'item_id_sum_item_cnt_month_lag_5',\n",
       "       'item_id_avg_item_cnt_month_lag_5', 'shop_id_avg_item_price_lag_5',\n",
       "       'shop_id_sum_item_cnt_month_lag_5', 'shop_id_avg_item_cnt_month_lag_5',\n",
       "       'item_category_id_avg_item_price_lag_5',\n",
       "       'item_category_id_sum_item_cnt_month_lag_5',\n",
       "       'item_category_id_avg_item_cnt_month_lag_5', 'item_cnt_month_lag_5',\n",
       "       'item_id_avg_item_price_lag_12', 'item_id_sum_item_cnt_month_lag_12',\n",
       "       'item_id_avg_item_cnt_month_lag_12', 'shop_id_avg_item_price_lag_12',\n",
       "       'shop_id_sum_item_cnt_month_lag_12',\n",
       "       'shop_id_avg_item_cnt_month_lag_12',\n",
       "       'item_category_id_avg_item_price_lag_12',\n",
       "       'item_category_id_sum_item_cnt_month_lag_12',\n",
       "       'item_category_id_avg_item_cnt_month_lag_12', 'item_cnt_month_lag_12'],\n",
       "      dtype='object')"
      ]
     },
     "execution_count": 80,
     "metadata": {},
     "output_type": "execute_result"
    }
   ],
   "source": [
    "test.columns"
   ]
  },
  {
   "cell_type": "code",
   "execution_count": 181,
   "metadata": {},
   "outputs": [],
   "source": [
    "test['mnth_sin'] = np.sin((11-1)*(2.*np.pi/12))\n",
    "test['mnth_cos'] = np.cos((11-1)*(2.*np.pi/12))\n",
    "test['year'] = 2\n",
    "for feat in test.columns:\n",
    "    if 'item_cnt' in feat:\n",
    "        test[feat]=test[feat].fillna(0)\n",
    "    elif 'item_price' in feat:\n",
    "        test[feat]=test[feat].fillna(X_means[feat].median())"
   ]
  },
  {
   "cell_type": "code",
   "execution_count": 182,
   "metadata": {},
   "outputs": [
    {
     "name": "stdout",
     "output_type": "stream",
     "text": [
      "(214200, 66)\n"
     ]
    }
   ],
   "source": [
    "print(test[list_col].shape)"
   ]
  },
  {
   "cell_type": "code",
   "execution_count": 183,
   "metadata": {},
   "outputs": [
    {
     "name": "stdout",
     "output_type": "stream",
     "text": [
      "(214200, 2)\n"
     ]
    },
    {
     "data": {
      "text/html": [
       "<div>\n",
       "<style scoped>\n",
       "    .dataframe tbody tr th:only-of-type {\n",
       "        vertical-align: middle;\n",
       "    }\n",
       "\n",
       "    .dataframe tbody tr th {\n",
       "        vertical-align: top;\n",
       "    }\n",
       "\n",
       "    .dataframe thead th {\n",
       "        text-align: right;\n",
       "    }\n",
       "</style>\n",
       "<table border=\"1\" class=\"dataframe\">\n",
       "  <thead>\n",
       "    <tr style=\"text-align: right;\">\n",
       "      <th></th>\n",
       "      <th>ID</th>\n",
       "      <th>item_cnt_month</th>\n",
       "    </tr>\n",
       "  </thead>\n",
       "  <tbody>\n",
       "    <tr>\n",
       "      <th>0</th>\n",
       "      <td>0</td>\n",
       "      <td>0.595010</td>\n",
       "    </tr>\n",
       "    <tr>\n",
       "      <th>1</th>\n",
       "      <td>1</td>\n",
       "      <td>0.383615</td>\n",
       "    </tr>\n",
       "    <tr>\n",
       "      <th>2</th>\n",
       "      <td>2</td>\n",
       "      <td>0.793582</td>\n",
       "    </tr>\n",
       "    <tr>\n",
       "      <th>3</th>\n",
       "      <td>3</td>\n",
       "      <td>0.430493</td>\n",
       "    </tr>\n",
       "    <tr>\n",
       "      <th>4</th>\n",
       "      <td>4</td>\n",
       "      <td>4.061564</td>\n",
       "    </tr>\n",
       "  </tbody>\n",
       "</table>\n",
       "</div>"
      ],
      "text/plain": [
       "   ID  item_cnt_month\n",
       "0   0        0.595010\n",
       "1   1        0.383615\n",
       "2   2        0.793582\n",
       "3   3        0.430493\n",
       "4   4        4.061564"
      ]
     },
     "execution_count": 183,
     "metadata": {},
     "output_type": "execute_result"
    }
   ],
   "source": [
    "test = test[list_col]\n",
    "test_preds = xgb.predict(test.values)\n",
    "submission = pd.DataFrame(pd.read_csv(DATA_FOLDER + 'test.csv')['ID'], columns=['ID'])\n",
    "submission['item_cnt_month'] = test_preds\n",
    "print(submission.shape)\n",
    "submission.head()"
   ]
  },
  {
   "cell_type": "code",
   "execution_count": 184,
   "metadata": {},
   "outputs": [],
   "source": [
    "submission.to_csv('submission.csv', index = None, header=True)"
   ]
  },
  {
   "cell_type": "markdown",
   "metadata": {},
   "source": [
    "## Conclusion  \n",
    "\n",
    "With that approach I was able to score an RMSE of **0.94** on both public and private set.  \n",
    "\n",
    "I want to emphasize the fact that this notebook only contains the code that made it possible to pass the assignment. It doesn't cover my previous approaches such as : \n",
    "- Hyperparamater Tuning.\n",
    "- Using all possible shops&items (not restricting to the test set).\n",
    "- Not filling the missing months (where an item hasn't been sold).\n",
    "- Using *item_price*.\n",
    "- Random Forest\n",
    "- LSTM  \n",
    "  \n",
    "This challenge was interesting as it reaffirms how important feature engineering is. I was also pretty impressed of how clipping the target value could improve the results so much. At first I didn't clip the target variable and achieved much more higher RMSE and it drastically dropped once I clipped the target."
   ]
  }
 ],
 "metadata": {
  "kernelspec": {
   "display_name": "Python 3",
   "language": "python",
   "name": "python3"
  },
  "language_info": {
   "codemirror_mode": {
    "name": "ipython",
    "version": 3
   },
   "file_extension": ".py",
   "mimetype": "text/x-python",
   "name": "python",
   "nbconvert_exporter": "python",
   "pygments_lexer": "ipython3",
   "version": "3.7.4"
  },
  "toc": {
   "base_numbering": "0",
   "nav_menu": {},
   "number_sections": true,
   "sideBar": false,
   "skip_h1_title": true,
   "title_cell": "Table of Contents",
   "title_sidebar": "Contents",
   "toc_cell": true,
   "toc_position": {},
   "toc_section_display": true,
   "toc_window_display": true
  }
 },
 "nbformat": 4,
 "nbformat_minor": 4
}
